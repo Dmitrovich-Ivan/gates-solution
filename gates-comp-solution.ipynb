{
 "cells": [
  {
   "cell_type": "code",
   "execution_count": 57,
   "id": "15cca58c-ecc6-4dff-8988-9322e66809a4",
   "metadata": {},
   "outputs": [],
   "source": [
    "import pandas as pd\n",
    "import numpy as np\n",
    "import sklearn\n",
    "import matplotlib.pyplot as plt\n",
    "import seaborn as sns\n",
    "\n",
    "from sklearn.model_selection import train_test_split\n",
    "from sklearn.model_selection import TimeSeriesSplit\n",
    "\n",
    "from sklearn.linear_model import LogisticRegression\n",
    "from sklearn.linear_model import LogisticRegressionCV\n",
    "from sklearn.model_selection import GridSearchCV\n",
    "\n",
    "from sklearn.preprocessing import StandardScaler\n",
    "from sklearn.preprocessing import OneHotEncoder\n",
    "from sklearn.feature_extraction.text import CountVectorizer\n",
    "\n",
    "from sklearn.metrics import precision_score, recall_score, f1_score"
   ]
  },
  {
   "cell_type": "code",
   "execution_count": 2,
   "id": "bac15dff-39f6-44a6-85d9-a4e03658a70a",
   "metadata": {},
   "outputs": [],
   "source": [
    "def dedupe_df(df, time_delta=\"00:00:15\", user=\"user_id\"):\n",
    "    dups =  df[df.groupby([user, \"gate_id\"])[\"ts\"].diff().lt(pd.Timedelta(time_delta))]\n",
    "    return df.drop(index=dups.index).reset_index(drop=True)"
   ]
  },
  {
   "cell_type": "code",
   "execution_count": 3,
   "id": "efc7f79a-18f7-438c-8370-d7f314902e6c",
   "metadata": {},
   "outputs": [],
   "source": [
    "def pivot_group_date_df(df, user='user_id'):\n",
    "    df_prep = df.copy()\n",
    "    \n",
    "    df_prep['date'] = df_prep['ts'].dt.date.values\n",
    "\n",
    "    df_res = df_prep.set_index([user, 'date', df_prep.groupby([user, 'date']).cumcount()+1]).unstack().sort_index(level=1, axis=1)\n",
    "    df_res.columns = df_res.columns.map('{0[0]}_{0[1]}'.format)\n",
    "    df_res.reset_index(inplace=True)\n",
    "\n",
    "    df_res = df_res.drop(columns=['date'])\n",
    "\n",
    "    df_res = df_res.sort_values(by='ts_1', ascending=True)\n",
    "    df_res.reset_index(drop=True, inplace=True)\n",
    "    \n",
    "    return df_res"
   ]
  },
  {
   "cell_type": "code",
   "execution_count": 4,
   "id": "48a26b78-629d-45e6-9acc-7110abb594c1",
   "metadata": {},
   "outputs": [],
   "source": [
    "def add_gate_features_df(df):\n",
    "    df['first_gate_ts'] = df.loc[:, df.columns.str.startswith(\"ts_\")].min(axis=1)\n",
    "    df['last_gate_ts'] = df.loc[:, df.columns.str.startswith(\"ts_\")].max(axis=1)\n",
    "\n",
    "    df['duration'] = (df['last_gate_ts'] - df['first_gate_ts']).dt.seconds\n",
    "\n",
    "    df['num_gates_passed'] = df.loc[:, df.columns.str.startswith('gate_id_')].notna().sum(axis=1)\n",
    "\n",
    "    df['gate_seq'] = df.loc[:, df.columns.str.startswith('gate_id_')].fillna('').astype(str).apply(' '.join, 1).apply(lambda x: x.strip())"
   ]
  },
  {
   "cell_type": "code",
   "execution_count": 5,
   "id": "082b5874-1190-4303-98ca-2595f23ccc1f",
   "metadata": {},
   "outputs": [],
   "source": [
    "def add_time_features_df(df):\n",
    "    df['min_1'] = df['first_gate_ts'].dt.minute.values\n",
    "    df['hour_1'] = df['first_gate_ts'].dt.hour.values\n",
    "\n",
    "    df['min_2'] = df['last_gate_ts'].dt.minute.values\n",
    "    df['hour_2'] = df['last_gate_ts'].dt.hour.values\n",
    "    \n",
    "    df['day'] = df['first_gate_ts'].dt.day.values\n",
    "    df['month'] = df['first_gate_ts'].dt.month.values\n",
    "    df['dayofweek'] = df['first_gate_ts'].dt.dayofweek.values"
   ]
  },
  {
   "cell_type": "code",
   "execution_count": 6,
   "id": "f83e1b39-603f-4bea-82bf-f84db0c4d7ba",
   "metadata": {},
   "outputs": [],
   "source": [
    "def add_cv_features_df(train, test, ngr_rng=(1, 3), max_feat=None):\n",
    "    \n",
    "    vectorizer = CountVectorizer(ngram_range=ngr_rng, tokenizer=lambda s: s.split(), max_features=max_feat)\n",
    "\n",
    "    vectorizer.fit(train['gate_seq'])\n",
    "    vec_cols = vectorizer.get_feature_names_out()\n",
    "\n",
    "    vec_train = pd.DataFrame(vectorizer.transform(train['gate_seq']).todense(), columns=vec_cols)\n",
    "    vec_test = pd.DataFrame(vectorizer.transform(test['gate_seq']).todense(), columns=vec_cols)\n",
    "\n",
    "    train = pd.concat([train, vec_train], axis=1)\n",
    "    test = pd.concat([test, vec_test], axis=1)\n",
    "\n",
    "    return train,  test "
   ]
  },
  {
   "cell_type": "code",
   "execution_count": 7,
   "id": "f34c91cb-a07d-42e6-a90c-6738ae0965a1",
   "metadata": {},
   "outputs": [],
   "source": [
    "def add_ohe_features_df(train, test, ctg_cols):\n",
    "    \n",
    "    encoder = OneHotEncoder(handle_unknown='ignore', sparse_output=False)\n",
    "    encoder.fit(train[ctg_cols])\n",
    "\n",
    "    cols = []\n",
    "    for ctg in encoder.categories_:\n",
    "        cols = np.concatenate((cols, ctg))\n",
    "    \n",
    "    ohe_train = pd.DataFrame(encoder.transform(train[ctg_cols]), columns=cols)\n",
    "    ohe_test = pd.DataFrame(encoder.transform(test[ctg_cols]), columns=cols)\n",
    "\n",
    "    train = pd.concat([train, ohe_train], axis=1)\n",
    "    test = pd.concat([test, ohe_test], axis=1)\n",
    "\n",
    "    return train,  test"
   ]
  },
  {
   "cell_type": "code",
   "execution_count": 8,
   "id": "7ae77d8d-9a61-4e81-870b-094639b5dc38",
   "metadata": {},
   "outputs": [],
   "source": [
    "def prepare_eval_df(y_train, y_val, y_val_pred, y_pred):\n",
    "#used code from baseline notebook provided by organisers\n",
    "    user_dict_val = dict() \n",
    "    inverse_user_dict_val = dict()\n",
    "    \n",
    "    y_val_list = list(y_val.unique())\n",
    "    for i in range(len(y_val_list)):\n",
    "        user_dict_val[y_val_list[i]] = 'user_'+str(i)\n",
    "        inverse_user_dict_val['user_'+str(i)] = y_val_list[i]\n",
    "        \n",
    "    user_dict_train = dict() \n",
    "    inverse_user_dict_train = dict()\n",
    "    \n",
    "    y_train_list = list(y_train.unique())\n",
    "    for i in range(len(y_train_list)):\n",
    "        user_dict_train[y_train_list[i]] = 'train_user_'+str(i)\n",
    "        inverse_user_dict_train['train_user_'+str(i)] = y_train_list[i]\n",
    "        \n",
    "    y_val_word = y_val.copy()\n",
    "    \n",
    "    for y_val_id in y_val_list:\n",
    "        y_val_word.loc[y_val == y_val_id] = user_dict_val[y_val_id]\n",
    "    \n",
    "    y_word = y_train.copy()\n",
    "\n",
    "    for y_train_id in y_train_list:\n",
    "        y_word.loc[y_train == y_train_id] = user_dict_train[y_train_id]\n",
    "\n",
    "    val_words = pd.DataFrame()\n",
    "    val_words['word'] = y_val_word\n",
    "    val_words['true'] = y_val\n",
    "    val_words['preds'] = y_val_pred\n",
    "\n",
    "    train_words = pd.DataFrame()\n",
    "    train_words['word'] = y_word\n",
    "    train_words['true'] = y_train\n",
    "    train_words['preds'] = y_pred\n",
    "\n",
    "    return train_words, user_dict_train, inverse_user_dict_train, val_words, user_dict_val, inverse_user_dict_val\n"
   ]
  },
  {
   "cell_type": "code",
   "execution_count": 9,
   "id": "8b37625a-7024-4beb-a0c6-dba655840970",
   "metadata": {},
   "outputs": [],
   "source": [
    "def calc_score(train_words, user_dict_train, inverse_user_dict_train, val_words, user_dict_val, inverse_user_dict_val):\n",
    "    #used code from baseline notebook provided by organisers\n",
    "    comp_df = pd.DataFrame(val_words.groupby('word')['preds'].agg(lambda x: x.value_counts().index[0]))\n",
    "    comp_df_train = pd.DataFrame(train_words.groupby('word')['preds'].agg(lambda x: x.value_counts().index[0]))\n",
    "\n",
    "    for idx in comp_df.index:\n",
    "        comp_df.loc[idx, 'true'] = inverse_user_dict_val[idx]   \n",
    "    comp_df = comp_df.astype(int)\n",
    "\n",
    "    for idx in comp_df_train.index:\n",
    "        comp_df_train.loc[idx, 'true'] = inverse_user_dict_train[idx]\n",
    "    comp_df_train = comp_df_train.astype(int)\n",
    "\n",
    "    comp_df['comp'] = comp_df['preds'] == comp_df['true']\n",
    "    comp_df_train['comp'] = comp_df_train['preds'] == comp_df_train['true']\n",
    "\n",
    "    comp_df['norm'] = 1\n",
    "    comp_df_train['norm'] = 1\n",
    "\n",
    "    true_answers = (comp_df['comp'] * comp_df['norm']).sum()\n",
    "    total_answers = comp_df['norm'].sum()\n",
    "    precent_true = round((true_answers/total_answers)*100, 1)\n",
    "\n",
    "    true_answers_train = (comp_df_train['comp'] * comp_df_train['norm']).sum()\n",
    "    total_answers_train = comp_df_train['norm'].sum()\n",
    "    precent_true_train = round((true_answers_train/total_answers_train)*100, 1)\n",
    "\n",
    "    return true_answers, total_answers, precent_true, true_answers_train, total_answers_train, precent_true_train"
   ]
  },
  {
   "cell_type": "code",
   "execution_count": null,
   "id": "61bed44c-365c-485f-ad9a-d4808dc728ab",
   "metadata": {},
   "outputs": [],
   "source": []
  },
  {
   "cell_type": "markdown",
   "id": "873836ad-314a-477f-a83e-c2ccd1cb8dbd",
   "metadata": {},
   "source": [
    "#### 1. Load the data"
   ]
  },
  {
   "cell_type": "code",
   "execution_count": 10,
   "id": "bbe27c8c-8075-4d06-8866-a5292ddaa63a",
   "metadata": {},
   "outputs": [],
   "source": [
    "train = pd.read_csv('data/train.csv', index_col=0)\n",
    "test = pd.read_csv('data/test.csv', index_col=0)"
   ]
  },
  {
   "cell_type": "code",
   "execution_count": 11,
   "id": "2f5df553-2cab-4c64-a0cf-69bfeb2cd8b4",
   "metadata": {},
   "outputs": [],
   "source": [
    "train['ts'] = pd.to_datetime(train['ts'])\n",
    "test['ts'] = pd.to_datetime(test['ts'])"
   ]
  },
  {
   "cell_type": "code",
   "execution_count": 16,
   "id": "b926e70a-f967-4edb-ac95-854c1696b18a",
   "metadata": {},
   "outputs": [
    {
     "data": {
      "text/html": [
       "<div>\n",
       "<style scoped>\n",
       "    .dataframe tbody tr th:only-of-type {\n",
       "        vertical-align: middle;\n",
       "    }\n",
       "\n",
       "    .dataframe tbody tr th {\n",
       "        vertical-align: top;\n",
       "    }\n",
       "\n",
       "    .dataframe thead th {\n",
       "        text-align: right;\n",
       "    }\n",
       "</style>\n",
       "<table border=\"1\" class=\"dataframe\">\n",
       "  <thead>\n",
       "    <tr style=\"text-align: right;\">\n",
       "      <th></th>\n",
       "      <th>user_id</th>\n",
       "      <th>ts</th>\n",
       "      <th>gate_id</th>\n",
       "    </tr>\n",
       "  </thead>\n",
       "  <tbody>\n",
       "    <tr>\n",
       "      <th>0</th>\n",
       "      <td>18</td>\n",
       "      <td>2022-07-29 09:08:54</td>\n",
       "      <td>7</td>\n",
       "    </tr>\n",
       "    <tr>\n",
       "      <th>1</th>\n",
       "      <td>18</td>\n",
       "      <td>2022-07-29 09:09:54</td>\n",
       "      <td>9</td>\n",
       "    </tr>\n",
       "    <tr>\n",
       "      <th>2</th>\n",
       "      <td>18</td>\n",
       "      <td>2022-07-29 09:09:54</td>\n",
       "      <td>9</td>\n",
       "    </tr>\n",
       "    <tr>\n",
       "      <th>3</th>\n",
       "      <td>18</td>\n",
       "      <td>2022-07-29 09:10:06</td>\n",
       "      <td>5</td>\n",
       "    </tr>\n",
       "    <tr>\n",
       "      <th>4</th>\n",
       "      <td>18</td>\n",
       "      <td>2022-07-29 09:10:08</td>\n",
       "      <td>5</td>\n",
       "    </tr>\n",
       "  </tbody>\n",
       "</table>\n",
       "</div>"
      ],
      "text/plain": [
       "   user_id                  ts  gate_id\n",
       "0       18 2022-07-29 09:08:54        7\n",
       "1       18 2022-07-29 09:09:54        9\n",
       "2       18 2022-07-29 09:09:54        9\n",
       "3       18 2022-07-29 09:10:06        5\n",
       "4       18 2022-07-29 09:10:08        5"
      ]
     },
     "execution_count": 16,
     "metadata": {},
     "output_type": "execute_result"
    }
   ],
   "source": [
    "train.head()"
   ]
  },
  {
   "cell_type": "code",
   "execution_count": 17,
   "id": "cfacc82e-4472-4d75-878c-cfb296b21124",
   "metadata": {},
   "outputs": [
    {
     "data": {
      "text/html": [
       "<div>\n",
       "<style scoped>\n",
       "    .dataframe tbody tr th:only-of-type {\n",
       "        vertical-align: middle;\n",
       "    }\n",
       "\n",
       "    .dataframe tbody tr th {\n",
       "        vertical-align: top;\n",
       "    }\n",
       "\n",
       "    .dataframe thead th {\n",
       "        text-align: right;\n",
       "    }\n",
       "</style>\n",
       "<table border=\"1\" class=\"dataframe\">\n",
       "  <thead>\n",
       "    <tr style=\"text-align: right;\">\n",
       "      <th></th>\n",
       "      <th>ts</th>\n",
       "      <th>gate_id</th>\n",
       "      <th>user_word</th>\n",
       "    </tr>\n",
       "  </thead>\n",
       "  <tbody>\n",
       "    <tr>\n",
       "      <th>37518</th>\n",
       "      <td>2023-01-03 08:21:00</td>\n",
       "      <td>9</td>\n",
       "      <td>gini</td>\n",
       "    </tr>\n",
       "    <tr>\n",
       "      <th>37519</th>\n",
       "      <td>2023-01-03 08:21:00</td>\n",
       "      <td>9</td>\n",
       "      <td>gini</td>\n",
       "    </tr>\n",
       "    <tr>\n",
       "      <th>37520</th>\n",
       "      <td>2023-01-03 08:21:18</td>\n",
       "      <td>5</td>\n",
       "      <td>gini</td>\n",
       "    </tr>\n",
       "    <tr>\n",
       "      <th>37521</th>\n",
       "      <td>2023-01-03 08:21:19</td>\n",
       "      <td>5</td>\n",
       "      <td>gini</td>\n",
       "    </tr>\n",
       "    <tr>\n",
       "      <th>37522</th>\n",
       "      <td>2023-01-03 08:21:39</td>\n",
       "      <td>10</td>\n",
       "      <td>gini</td>\n",
       "    </tr>\n",
       "  </tbody>\n",
       "</table>\n",
       "</div>"
      ],
      "text/plain": [
       "                       ts  gate_id user_word\n",
       "37518 2023-01-03 08:21:00        9      gini\n",
       "37519 2023-01-03 08:21:00        9      gini\n",
       "37520 2023-01-03 08:21:18        5      gini\n",
       "37521 2023-01-03 08:21:19        5      gini\n",
       "37522 2023-01-03 08:21:39       10      gini"
      ]
     },
     "execution_count": 17,
     "metadata": {},
     "output_type": "execute_result"
    }
   ],
   "source": [
    "test.head()"
   ]
  },
  {
   "cell_type": "code",
   "execution_count": null,
   "id": "417abe2b-42f5-489d-bfec-8929ef89e73c",
   "metadata": {},
   "outputs": [],
   "source": []
  },
  {
   "cell_type": "markdown",
   "id": "d515ae22-f0c0-4083-b1fd-865c95b11879",
   "metadata": {},
   "source": [
    "#### 2. Transform the data"
   ]
  },
  {
   "cell_type": "code",
   "execution_count": 18,
   "id": "56fbb28b-4336-4d66-8cbc-dc12d78826d1",
   "metadata": {},
   "outputs": [
    {
     "name": "stdout",
     "output_type": "stream",
     "text": [
      "(37518, 3)\n",
      "(7125, 3)\n"
     ]
    }
   ],
   "source": [
    "print(train.shape)\n",
    "print(test.shape)"
   ]
  },
  {
   "cell_type": "code",
   "execution_count": 38,
   "id": "0d94bbb9-e6d8-46b2-baa1-b83b812360f1",
   "metadata": {},
   "outputs": [
    {
     "name": "stdout",
     "output_type": "stream",
     "text": [
      "(24771, 3)\n",
      "(4718, 3)\n"
     ]
    }
   ],
   "source": [
    "train_dd = dedupe_df(train, user=\"user_id\")\n",
    "test_dd = dedupe_df(test, user=\"user_word\")\n",
    "\n",
    "print(train_dd.shape)\n",
    "print(test_dd.shape)"
   ]
  },
  {
   "cell_type": "code",
   "execution_count": 39,
   "id": "5864282d-8588-4bd5-80fc-c72e37188fd7",
   "metadata": {},
   "outputs": [
    {
     "name": "stdout",
     "output_type": "stream",
     "text": [
      "(2521, 141)\n",
      "(2521, 115)\n"
     ]
    }
   ],
   "source": [
    "# creating pivoted dataframes, grouping by user_id and date, resulting in dataframe with rows where for a given user_id all gate data within a day is combined \n",
    "train_piv = pivot_group_date_df(train, user=\"user_id\")\n",
    "train_dd_piv = pivot_group_date_df(train_dd, user=\"user_id\")\n",
    "\n",
    "print(train_piv.shape)\n",
    "print(train_dd_piv.shape)"
   ]
  },
  {
   "cell_type": "code",
   "execution_count": 40,
   "id": "cc7ceb3f-7d36-4b27-b2ce-51ffa6a00d2d",
   "metadata": {},
   "outputs": [
    {
     "name": "stdout",
     "output_type": "stream",
     "text": [
      "(538, 113)\n",
      "(538, 73)\n"
     ]
    }
   ],
   "source": [
    "test_piv = pivot_group_date_df(test, user=\"user_word\")\n",
    "test_dd_piv = pivot_group_date_df(test_dd, user=\"user_word\")\n",
    "\n",
    "print(test_piv.shape)\n",
    "print(test_dd_piv.shape)"
   ]
  },
  {
   "cell_type": "code",
   "execution_count": 41,
   "id": "33a4f868-cb92-4ceb-9547-ef13ba3b6baa",
   "metadata": {},
   "outputs": [],
   "source": [
    "#adding time features + gate sequence\n",
    "add_gate_features_df(train_piv)\n",
    "add_gate_features_df(train_dd_piv)\n",
    "\n",
    "add_time_features_df(train_piv)\n",
    "add_time_features_df(train_dd_piv)\n",
    "\n",
    "\n",
    "add_gate_features_df(test_piv)\n",
    "add_gate_features_df(test_dd_piv)\n",
    "\n",
    "add_time_features_df(test_piv)\n",
    "add_time_features_df(test_dd_piv)"
   ]
  },
  {
   "cell_type": "code",
   "execution_count": 42,
   "id": "efd9256e-a8d8-4f9c-be16-e08b2e38990e",
   "metadata": {},
   "outputs": [
    {
     "data": {
      "text/plain": [
       "Index(['user_id', 'gate_id_1', 'ts_1', 'gate_id_2', 'ts_2', 'gate_id_3',\n",
       "       'ts_3', 'gate_id_4', 'ts_4', 'gate_id_5',\n",
       "       ...\n",
       "       'duration', 'num_gates_passed', 'gate_seq', 'min_1', 'hour_1', 'min_2',\n",
       "       'hour_2', 'day', 'month', 'dayofweek'],\n",
       "      dtype='object', length=127)"
      ]
     },
     "execution_count": 42,
     "metadata": {},
     "output_type": "execute_result"
    }
   ],
   "source": [
    "train_dd_piv.columns"
   ]
  },
  {
   "cell_type": "code",
   "execution_count": 43,
   "id": "0d7fee20-7535-4d61-abe3-236644022a39",
   "metadata": {},
   "outputs": [
    {
     "data": {
      "text/html": [
       "<div>\n",
       "<style scoped>\n",
       "    .dataframe tbody tr th:only-of-type {\n",
       "        vertical-align: middle;\n",
       "    }\n",
       "\n",
       "    .dataframe tbody tr th {\n",
       "        vertical-align: top;\n",
       "    }\n",
       "\n",
       "    .dataframe thead th {\n",
       "        text-align: right;\n",
       "    }\n",
       "</style>\n",
       "<table border=\"1\" class=\"dataframe\">\n",
       "  <thead>\n",
       "    <tr style=\"text-align: right;\">\n",
       "      <th></th>\n",
       "      <th>user_id</th>\n",
       "      <th>gate_id_1</th>\n",
       "      <th>ts_1</th>\n",
       "      <th>gate_id_2</th>\n",
       "      <th>ts_2</th>\n",
       "      <th>gate_id_3</th>\n",
       "      <th>ts_3</th>\n",
       "      <th>gate_id_4</th>\n",
       "      <th>ts_4</th>\n",
       "      <th>gate_id_5</th>\n",
       "      <th>...</th>\n",
       "      <th>duration</th>\n",
       "      <th>num_gates_passed</th>\n",
       "      <th>gate_seq</th>\n",
       "      <th>min_1</th>\n",
       "      <th>hour_1</th>\n",
       "      <th>min_2</th>\n",
       "      <th>hour_2</th>\n",
       "      <th>day</th>\n",
       "      <th>month</th>\n",
       "      <th>dayofweek</th>\n",
       "    </tr>\n",
       "  </thead>\n",
       "  <tbody>\n",
       "    <tr>\n",
       "      <th>0</th>\n",
       "      <td>18</td>\n",
       "      <td>7.0</td>\n",
       "      <td>2022-07-29 09:08:54</td>\n",
       "      <td>9.0</td>\n",
       "      <td>2022-07-29 09:09:54</td>\n",
       "      <td>5.0</td>\n",
       "      <td>2022-07-29 09:10:06</td>\n",
       "      <td>10.0</td>\n",
       "      <td>2022-07-29 09:10:34</td>\n",
       "      <td>11.0</td>\n",
       "      <td>...</td>\n",
       "      <td>34382</td>\n",
       "      <td>38</td>\n",
       "      <td>7.0 9.0 5.0 10.0 11.0 4.0 9.0 5.0 10.0 12.0 11...</td>\n",
       "      <td>8</td>\n",
       "      <td>9</td>\n",
       "      <td>41</td>\n",
       "      <td>18</td>\n",
       "      <td>29</td>\n",
       "      <td>7</td>\n",
       "      <td>4</td>\n",
       "    </tr>\n",
       "    <tr>\n",
       "      <th>1</th>\n",
       "      <td>1</td>\n",
       "      <td>7.0</td>\n",
       "      <td>2022-07-29 09:33:16</td>\n",
       "      <td>9.0</td>\n",
       "      <td>2022-07-29 09:34:18</td>\n",
       "      <td>5.0</td>\n",
       "      <td>2022-07-29 09:34:32</td>\n",
       "      <td>10.0</td>\n",
       "      <td>2022-07-29 09:35:00</td>\n",
       "      <td>11.0</td>\n",
       "      <td>...</td>\n",
       "      <td>31935</td>\n",
       "      <td>10</td>\n",
       "      <td>7.0 9.0 5.0 10.0 11.0 4.0 3.0 10.0 11.0 6.0</td>\n",
       "      <td>33</td>\n",
       "      <td>9</td>\n",
       "      <td>25</td>\n",
       "      <td>18</td>\n",
       "      <td>29</td>\n",
       "      <td>7</td>\n",
       "      <td>4</td>\n",
       "    </tr>\n",
       "    <tr>\n",
       "      <th>2</th>\n",
       "      <td>3</td>\n",
       "      <td>7.0</td>\n",
       "      <td>2022-07-29 09:40:40</td>\n",
       "      <td>9.0</td>\n",
       "      <td>2022-07-29 09:42:49</td>\n",
       "      <td>5.0</td>\n",
       "      <td>2022-07-29 09:43:01</td>\n",
       "      <td>10.0</td>\n",
       "      <td>2022-07-29 09:43:29</td>\n",
       "      <td>11.0</td>\n",
       "      <td>...</td>\n",
       "      <td>31905</td>\n",
       "      <td>11</td>\n",
       "      <td>7.0 9.0 5.0 10.0 11.0 4.0 7.0 3.0 10.0 11.0 4.0</td>\n",
       "      <td>40</td>\n",
       "      <td>9</td>\n",
       "      <td>32</td>\n",
       "      <td>18</td>\n",
       "      <td>29</td>\n",
       "      <td>7</td>\n",
       "      <td>4</td>\n",
       "    </tr>\n",
       "  </tbody>\n",
       "</table>\n",
       "<p>3 rows × 127 columns</p>\n",
       "</div>"
      ],
      "text/plain": [
       "   user_id  gate_id_1                ts_1  gate_id_2                ts_2  \\\n",
       "0       18        7.0 2022-07-29 09:08:54        9.0 2022-07-29 09:09:54   \n",
       "1        1        7.0 2022-07-29 09:33:16        9.0 2022-07-29 09:34:18   \n",
       "2        3        7.0 2022-07-29 09:40:40        9.0 2022-07-29 09:42:49   \n",
       "\n",
       "   gate_id_3                ts_3  gate_id_4                ts_4  gate_id_5  \\\n",
       "0        5.0 2022-07-29 09:10:06       10.0 2022-07-29 09:10:34       11.0   \n",
       "1        5.0 2022-07-29 09:34:32       10.0 2022-07-29 09:35:00       11.0   \n",
       "2        5.0 2022-07-29 09:43:01       10.0 2022-07-29 09:43:29       11.0   \n",
       "\n",
       "   ... duration  num_gates_passed  \\\n",
       "0  ...    34382                38   \n",
       "1  ...    31935                10   \n",
       "2  ...    31905                11   \n",
       "\n",
       "                                            gate_seq  min_1 hour_1  min_2  \\\n",
       "0  7.0 9.0 5.0 10.0 11.0 4.0 9.0 5.0 10.0 12.0 11...      8      9     41   \n",
       "1        7.0 9.0 5.0 10.0 11.0 4.0 3.0 10.0 11.0 6.0     33      9     25   \n",
       "2    7.0 9.0 5.0 10.0 11.0 4.0 7.0 3.0 10.0 11.0 4.0     40      9     32   \n",
       "\n",
       "  hour_2  day month  dayofweek  \n",
       "0     18   29     7          4  \n",
       "1     18   29     7          4  \n",
       "2     18   29     7          4  \n",
       "\n",
       "[3 rows x 127 columns]"
      ]
     },
     "execution_count": 43,
     "metadata": {},
     "output_type": "execute_result"
    }
   ],
   "source": [
    "train_dd_piv.head(3)"
   ]
  },
  {
   "cell_type": "code",
   "execution_count": 44,
   "id": "d1934b06-2b42-4e51-9c3c-667cbb8f9d11",
   "metadata": {},
   "outputs": [
    {
     "name": "stderr",
     "output_type": "stream",
     "text": [
      "C:\\Users\\ivand\\Code\\Py-Projects\\.venv\\lib\\site-packages\\sklearn\\feature_extraction\\text.py:525: UserWarning: The parameter 'token_pattern' will not be used since 'tokenizer' is not None'\n",
      "  warnings.warn(\n"
     ]
    }
   ],
   "source": [
    "train_cv, test_cv = add_cv_features_df(train_dd_piv, test_dd_piv, ngr_rng=(1, 5), max_feat=100)"
   ]
  },
  {
   "cell_type": "code",
   "execution_count": 45,
   "id": "178057fa-7bcc-4739-87cb-0ba0b9397cf9",
   "metadata": {},
   "outputs": [
    {
     "name": "stdout",
     "output_type": "stream",
     "text": [
      "(2521, 227)\n",
      "(538, 185)\n"
     ]
    }
   ],
   "source": [
    "print(train_cv.shape)\n",
    "print(test_cv.shape)"
   ]
  },
  {
   "cell_type": "code",
   "execution_count": 46,
   "id": "878cef87-bf07-4d8c-9c18-4b6b7911d8fb",
   "metadata": {},
   "outputs": [],
   "source": [
    "train_fin, test_fin = add_ohe_features_df(train_cv, test_cv, ctg_cols = ['gate_id_1', 'hour_1', 'hour_2', 'dayofweek'])"
   ]
  },
  {
   "cell_type": "code",
   "execution_count": 47,
   "id": "69843054-167d-4a48-a942-b72061a78cd3",
   "metadata": {},
   "outputs": [
    {
     "name": "stdout",
     "output_type": "stream",
     "text": [
      "(2521, 276)\n",
      "(538, 234)\n"
     ]
    }
   ],
   "source": [
    "print(train_fin.shape)\n",
    "print(test_fin.shape)"
   ]
  },
  {
   "cell_type": "code",
   "execution_count": null,
   "id": "682fdf66-418a-4d3a-9d9f-204f1ab9c040",
   "metadata": {},
   "outputs": [],
   "source": []
  },
  {
   "cell_type": "markdown",
   "id": "f973804c-6b01-4dcb-bc1d-16f2289d5c04",
   "metadata": {},
   "source": [
    "#### 3. Preparing train, val, test sets"
   ]
  },
  {
   "cell_type": "code",
   "execution_count": 48,
   "id": "9a68291b-e50b-4d16-a565-28ad8aa4b63b",
   "metadata": {},
   "outputs": [],
   "source": [
    "val_index = train_fin['ts_1'] > '2022-11-30'"
   ]
  },
  {
   "cell_type": "code",
   "execution_count": 49,
   "id": "2f29a458-e9ca-464f-a193-2a300260ab20",
   "metadata": {},
   "outputs": [],
   "source": [
    "train_df = train_fin[~val_index].copy()\n",
    "val_df = train_fin[val_index].copy()\n",
    "test_df = test_fin.copy()\n",
    "\n",
    "y_train = train_df['user_id'].astype(int)\n",
    "y_val = val_df['user_id'].astype(int)"
   ]
  },
  {
   "cell_type": "code",
   "execution_count": 50,
   "id": "9b91b154-5816-47ca-8d04-e17871671bd1",
   "metadata": {},
   "outputs": [
    {
     "name": "stdout",
     "output_type": "stream",
     "text": [
      "(1982, 276)\n",
      "(539, 276)\n",
      "(538, 234)\n"
     ]
    }
   ],
   "source": [
    "print(train_df.shape)\n",
    "print(val_df.shape)\n",
    "print(test_df.shape)"
   ]
  },
  {
   "cell_type": "code",
   "execution_count": 51,
   "id": "fa29b7d7-81c3-4a21-8a71-a61a28967fa7",
   "metadata": {},
   "outputs": [
    {
     "name": "stdout",
     "output_type": "stream",
     "text": [
      "Index(['first_gate_ts', 'last_gate_ts', 'duration', 'num_gates_passed',\n",
      "       'gate_seq', 'min_1', 'hour_1', 'min_2', 'hour_2', 'day', 'month',\n",
      "       'dayofweek', '10.0', '10.0 10.0', '10.0 11.0'],\n",
      "      dtype='object')\n"
     ]
    }
   ],
   "source": [
    "print(train_df.columns[115:130])"
   ]
  },
  {
   "cell_type": "code",
   "execution_count": 52,
   "id": "14d677fc-6241-4671-910b-d15e3d08b2b5",
   "metadata": {},
   "outputs": [],
   "source": [
    "train_cols = []\n",
    "\n",
    "for c in train_df.columns[127:]:\n",
    "    train_cols.append(c)\n",
    "\n",
    "for c in train_df.columns[117:119]:\n",
    "    train_cols.append(c)\n",
    "\n",
    "#train_cols"
   ]
  },
  {
   "cell_type": "code",
   "execution_count": 53,
   "id": "5a41454e-09c4-458e-a391-058127f490b6",
   "metadata": {},
   "outputs": [
    {
     "data": {
      "text/html": [
       "<div>\n",
       "<style scoped>\n",
       "    .dataframe tbody tr th:only-of-type {\n",
       "        vertical-align: middle;\n",
       "    }\n",
       "\n",
       "    .dataframe tbody tr th {\n",
       "        vertical-align: top;\n",
       "    }\n",
       "\n",
       "    .dataframe thead th {\n",
       "        text-align: right;\n",
       "    }\n",
       "</style>\n",
       "<table border=\"1\" class=\"dataframe\">\n",
       "  <thead>\n",
       "    <tr style=\"text-align: right;\">\n",
       "      <th></th>\n",
       "      <th>10.0</th>\n",
       "      <th>10.0 10.0</th>\n",
       "      <th>10.0 11.0</th>\n",
       "      <th>10.0 11.0 4.0</th>\n",
       "      <th>10.0 11.0 4.0 3.0</th>\n",
       "      <th>10.0 11.0 4.0 3.0 10.0</th>\n",
       "      <th>10.0 11.0 4.0 5.0</th>\n",
       "      <th>10.0 11.0 4.0 7.0</th>\n",
       "      <th>10.0 11.0 4.0 7.0 3.0</th>\n",
       "      <th>10.0 11.0 4.0 7.0 5.0</th>\n",
       "      <th>...</th>\n",
       "      <th>3.0</th>\n",
       "      <th>3.0</th>\n",
       "      <th>4.0</th>\n",
       "      <th>4.0</th>\n",
       "      <th>5.0</th>\n",
       "      <th>5.0</th>\n",
       "      <th>6.0</th>\n",
       "      <th>6.0</th>\n",
       "      <th>duration</th>\n",
       "      <th>num_gates_passed</th>\n",
       "    </tr>\n",
       "  </thead>\n",
       "  <tbody>\n",
       "    <tr>\n",
       "      <th>0</th>\n",
       "      <td>6</td>\n",
       "      <td>0</td>\n",
       "      <td>1</td>\n",
       "      <td>1</td>\n",
       "      <td>0</td>\n",
       "      <td>0</td>\n",
       "      <td>0</td>\n",
       "      <td>0</td>\n",
       "      <td>0</td>\n",
       "      <td>0</td>\n",
       "      <td>...</td>\n",
       "      <td>0.0</td>\n",
       "      <td>0.0</td>\n",
       "      <td>0.0</td>\n",
       "      <td>1.0</td>\n",
       "      <td>0.0</td>\n",
       "      <td>0.0</td>\n",
       "      <td>0.0</td>\n",
       "      <td>0.0</td>\n",
       "      <td>34382</td>\n",
       "      <td>38</td>\n",
       "    </tr>\n",
       "    <tr>\n",
       "      <th>1</th>\n",
       "      <td>2</td>\n",
       "      <td>0</td>\n",
       "      <td>2</td>\n",
       "      <td>1</td>\n",
       "      <td>1</td>\n",
       "      <td>1</td>\n",
       "      <td>0</td>\n",
       "      <td>0</td>\n",
       "      <td>0</td>\n",
       "      <td>0</td>\n",
       "      <td>...</td>\n",
       "      <td>0.0</td>\n",
       "      <td>0.0</td>\n",
       "      <td>0.0</td>\n",
       "      <td>1.0</td>\n",
       "      <td>0.0</td>\n",
       "      <td>0.0</td>\n",
       "      <td>0.0</td>\n",
       "      <td>0.0</td>\n",
       "      <td>31935</td>\n",
       "      <td>10</td>\n",
       "    </tr>\n",
       "    <tr>\n",
       "      <th>2</th>\n",
       "      <td>2</td>\n",
       "      <td>0</td>\n",
       "      <td>2</td>\n",
       "      <td>2</td>\n",
       "      <td>0</td>\n",
       "      <td>0</td>\n",
       "      <td>0</td>\n",
       "      <td>1</td>\n",
       "      <td>1</td>\n",
       "      <td>0</td>\n",
       "      <td>...</td>\n",
       "      <td>0.0</td>\n",
       "      <td>0.0</td>\n",
       "      <td>0.0</td>\n",
       "      <td>1.0</td>\n",
       "      <td>0.0</td>\n",
       "      <td>0.0</td>\n",
       "      <td>0.0</td>\n",
       "      <td>0.0</td>\n",
       "      <td>31905</td>\n",
       "      <td>11</td>\n",
       "    </tr>\n",
       "    <tr>\n",
       "      <th>3</th>\n",
       "      <td>4</td>\n",
       "      <td>0</td>\n",
       "      <td>1</td>\n",
       "      <td>1</td>\n",
       "      <td>0</td>\n",
       "      <td>0</td>\n",
       "      <td>0</td>\n",
       "      <td>1</td>\n",
       "      <td>1</td>\n",
       "      <td>0</td>\n",
       "      <td>...</td>\n",
       "      <td>0.0</td>\n",
       "      <td>0.0</td>\n",
       "      <td>0.0</td>\n",
       "      <td>1.0</td>\n",
       "      <td>0.0</td>\n",
       "      <td>0.0</td>\n",
       "      <td>0.0</td>\n",
       "      <td>0.0</td>\n",
       "      <td>31705</td>\n",
       "      <td>27</td>\n",
       "    </tr>\n",
       "    <tr>\n",
       "      <th>4</th>\n",
       "      <td>1</td>\n",
       "      <td>0</td>\n",
       "      <td>1</td>\n",
       "      <td>1</td>\n",
       "      <td>0</td>\n",
       "      <td>0</td>\n",
       "      <td>0</td>\n",
       "      <td>0</td>\n",
       "      <td>0</td>\n",
       "      <td>0</td>\n",
       "      <td>...</td>\n",
       "      <td>0.0</td>\n",
       "      <td>0.0</td>\n",
       "      <td>0.0</td>\n",
       "      <td>1.0</td>\n",
       "      <td>0.0</td>\n",
       "      <td>0.0</td>\n",
       "      <td>0.0</td>\n",
       "      <td>0.0</td>\n",
       "      <td>32560</td>\n",
       "      <td>6</td>\n",
       "    </tr>\n",
       "    <tr>\n",
       "      <th>...</th>\n",
       "      <td>...</td>\n",
       "      <td>...</td>\n",
       "      <td>...</td>\n",
       "      <td>...</td>\n",
       "      <td>...</td>\n",
       "      <td>...</td>\n",
       "      <td>...</td>\n",
       "      <td>...</td>\n",
       "      <td>...</td>\n",
       "      <td>...</td>\n",
       "      <td>...</td>\n",
       "      <td>...</td>\n",
       "      <td>...</td>\n",
       "      <td>...</td>\n",
       "      <td>...</td>\n",
       "      <td>...</td>\n",
       "      <td>...</td>\n",
       "      <td>...</td>\n",
       "      <td>...</td>\n",
       "      <td>...</td>\n",
       "      <td>...</td>\n",
       "    </tr>\n",
       "    <tr>\n",
       "      <th>1977</th>\n",
       "      <td>1</td>\n",
       "      <td>0</td>\n",
       "      <td>1</td>\n",
       "      <td>1</td>\n",
       "      <td>0</td>\n",
       "      <td>0</td>\n",
       "      <td>0</td>\n",
       "      <td>0</td>\n",
       "      <td>0</td>\n",
       "      <td>0</td>\n",
       "      <td>...</td>\n",
       "      <td>0.0</td>\n",
       "      <td>0.0</td>\n",
       "      <td>0.0</td>\n",
       "      <td>0.0</td>\n",
       "      <td>0.0</td>\n",
       "      <td>0.0</td>\n",
       "      <td>0.0</td>\n",
       "      <td>0.0</td>\n",
       "      <td>28678</td>\n",
       "      <td>7</td>\n",
       "    </tr>\n",
       "    <tr>\n",
       "      <th>1978</th>\n",
       "      <td>1</td>\n",
       "      <td>0</td>\n",
       "      <td>1</td>\n",
       "      <td>1</td>\n",
       "      <td>0</td>\n",
       "      <td>0</td>\n",
       "      <td>0</td>\n",
       "      <td>0</td>\n",
       "      <td>0</td>\n",
       "      <td>0</td>\n",
       "      <td>...</td>\n",
       "      <td>0.0</td>\n",
       "      <td>0.0</td>\n",
       "      <td>0.0</td>\n",
       "      <td>0.0</td>\n",
       "      <td>0.0</td>\n",
       "      <td>0.0</td>\n",
       "      <td>0.0</td>\n",
       "      <td>0.0</td>\n",
       "      <td>29695</td>\n",
       "      <td>5</td>\n",
       "    </tr>\n",
       "    <tr>\n",
       "      <th>1979</th>\n",
       "      <td>2</td>\n",
       "      <td>0</td>\n",
       "      <td>2</td>\n",
       "      <td>1</td>\n",
       "      <td>0</td>\n",
       "      <td>0</td>\n",
       "      <td>0</td>\n",
       "      <td>1</td>\n",
       "      <td>0</td>\n",
       "      <td>1</td>\n",
       "      <td>...</td>\n",
       "      <td>0.0</td>\n",
       "      <td>0.0</td>\n",
       "      <td>0.0</td>\n",
       "      <td>0.0</td>\n",
       "      <td>0.0</td>\n",
       "      <td>0.0</td>\n",
       "      <td>0.0</td>\n",
       "      <td>0.0</td>\n",
       "      <td>13920</td>\n",
       "      <td>11</td>\n",
       "    </tr>\n",
       "    <tr>\n",
       "      <th>1980</th>\n",
       "      <td>1</td>\n",
       "      <td>0</td>\n",
       "      <td>1</td>\n",
       "      <td>1</td>\n",
       "      <td>0</td>\n",
       "      <td>0</td>\n",
       "      <td>0</td>\n",
       "      <td>0</td>\n",
       "      <td>0</td>\n",
       "      <td>0</td>\n",
       "      <td>...</td>\n",
       "      <td>1.0</td>\n",
       "      <td>0.0</td>\n",
       "      <td>0.0</td>\n",
       "      <td>0.0</td>\n",
       "      <td>0.0</td>\n",
       "      <td>0.0</td>\n",
       "      <td>0.0</td>\n",
       "      <td>0.0</td>\n",
       "      <td>9397</td>\n",
       "      <td>4</td>\n",
       "    </tr>\n",
       "    <tr>\n",
       "      <th>1981</th>\n",
       "      <td>1</td>\n",
       "      <td>0</td>\n",
       "      <td>1</td>\n",
       "      <td>1</td>\n",
       "      <td>0</td>\n",
       "      <td>0</td>\n",
       "      <td>0</td>\n",
       "      <td>0</td>\n",
       "      <td>0</td>\n",
       "      <td>0</td>\n",
       "      <td>...</td>\n",
       "      <td>0.0</td>\n",
       "      <td>0.0</td>\n",
       "      <td>0.0</td>\n",
       "      <td>0.0</td>\n",
       "      <td>1.0</td>\n",
       "      <td>0.0</td>\n",
       "      <td>0.0</td>\n",
       "      <td>0.0</td>\n",
       "      <td>8832</td>\n",
       "      <td>4</td>\n",
       "    </tr>\n",
       "  </tbody>\n",
       "</table>\n",
       "<p>1982 rows × 213 columns</p>\n",
       "</div>"
      ],
      "text/plain": [
       "      10.0  10.0 10.0  10.0 11.0  10.0 11.0 4.0  10.0 11.0 4.0 3.0  \\\n",
       "0        6          0          1              1                  0   \n",
       "1        2          0          2              1                  1   \n",
       "2        2          0          2              2                  0   \n",
       "3        4          0          1              1                  0   \n",
       "4        1          0          1              1                  0   \n",
       "...    ...        ...        ...            ...                ...   \n",
       "1977     1          0          1              1                  0   \n",
       "1978     1          0          1              1                  0   \n",
       "1979     2          0          2              1                  0   \n",
       "1980     1          0          1              1                  0   \n",
       "1981     1          0          1              1                  0   \n",
       "\n",
       "      10.0 11.0 4.0 3.0 10.0  10.0 11.0 4.0 5.0  10.0 11.0 4.0 7.0  \\\n",
       "0                          0                  0                  0   \n",
       "1                          1                  0                  0   \n",
       "2                          0                  0                  1   \n",
       "3                          0                  0                  1   \n",
       "4                          0                  0                  0   \n",
       "...                      ...                ...                ...   \n",
       "1977                       0                  0                  0   \n",
       "1978                       0                  0                  0   \n",
       "1979                       0                  0                  1   \n",
       "1980                       0                  0                  0   \n",
       "1981                       0                  0                  0   \n",
       "\n",
       "      10.0 11.0 4.0 7.0 3.0  10.0 11.0 4.0 7.0 5.0  ...  3.0  3.0  4.0  4.0  \\\n",
       "0                         0                      0  ...  0.0  0.0  0.0  1.0   \n",
       "1                         0                      0  ...  0.0  0.0  0.0  1.0   \n",
       "2                         1                      0  ...  0.0  0.0  0.0  1.0   \n",
       "3                         1                      0  ...  0.0  0.0  0.0  1.0   \n",
       "4                         0                      0  ...  0.0  0.0  0.0  1.0   \n",
       "...                     ...                    ...  ...  ...  ...  ...  ...   \n",
       "1977                      0                      0  ...  0.0  0.0  0.0  0.0   \n",
       "1978                      0                      0  ...  0.0  0.0  0.0  0.0   \n",
       "1979                      0                      1  ...  0.0  0.0  0.0  0.0   \n",
       "1980                      0                      0  ...  1.0  0.0  0.0  0.0   \n",
       "1981                      0                      0  ...  0.0  0.0  0.0  0.0   \n",
       "\n",
       "      5.0  5.0  6.0  6.0  duration  num_gates_passed  \n",
       "0     0.0  0.0  0.0  0.0     34382                38  \n",
       "1     0.0  0.0  0.0  0.0     31935                10  \n",
       "2     0.0  0.0  0.0  0.0     31905                11  \n",
       "3     0.0  0.0  0.0  0.0     31705                27  \n",
       "4     0.0  0.0  0.0  0.0     32560                 6  \n",
       "...   ...  ...  ...  ...       ...               ...  \n",
       "1977  0.0  0.0  0.0  0.0     28678                 7  \n",
       "1978  0.0  0.0  0.0  0.0     29695                 5  \n",
       "1979  0.0  0.0  0.0  0.0     13920                11  \n",
       "1980  0.0  0.0  0.0  0.0      9397                 4  \n",
       "1981  1.0  0.0  0.0  0.0      8832                 4  \n",
       "\n",
       "[1982 rows x 213 columns]"
      ]
     },
     "execution_count": 53,
     "metadata": {},
     "output_type": "execute_result"
    }
   ],
   "source": [
    "train_df.loc[:, train_cols]"
   ]
  },
  {
   "cell_type": "code",
   "execution_count": 54,
   "id": "3b2d9285-12de-4de3-94f5-ce4881659f52",
   "metadata": {},
   "outputs": [],
   "source": [
    "X_train = train_df[train_cols].astype(int)\n",
    "X_val = val_df[train_cols].astype(int)\n",
    "\n",
    "X_train.columns = X_train.columns.astype(str)\n",
    "X_val.columns = X_val.columns.astype(str)"
   ]
  },
  {
   "cell_type": "code",
   "execution_count": 55,
   "id": "c88ddfb9-707f-4f24-8e16-6bc6f7894a89",
   "metadata": {},
   "outputs": [],
   "source": [
    "scaler_X = StandardScaler()\n",
    "scaler_X_val = StandardScaler()\n",
    "\n",
    "scaler_X.fit(X_train)\n",
    "scaler_X_val.fit(X_val)\n",
    "\n",
    "X_scaled = scaler_X.transform(X_train)\n",
    "X_val_scaled = scaler_X_val.transform(X_val)"
   ]
  },
  {
   "cell_type": "code",
   "execution_count": 59,
   "id": "8482b95b-0223-4d24-b2de-80a0d2d38f01",
   "metadata": {
    "scrolled": true
   },
   "outputs": [
    {
     "name": "stdout",
     "output_type": "stream",
     "text": [
      "Fitting 5 folds for each of 32 candidates, totalling 160 fits\n",
      "[CV] END C=0.01, class_weight=balanced, penalty=l1, solver=newton-cg; total time=   0.0s\n",
      "[CV] END C=0.01, class_weight=balanced, penalty=l1, solver=newton-cg; total time=   0.0s\n",
      "[CV] END C=0.01, class_weight=balanced, penalty=l1, solver=newton-cg; total time=   0.0s\n",
      "[CV] END C=0.01, class_weight=balanced, penalty=l1, solver=newton-cg; total time=   0.0s\n",
      "[CV] END C=0.01, class_weight=balanced, penalty=l1, solver=newton-cg; total time=   0.0s\n",
      "[CV] END C=0.01, class_weight=balanced, penalty=l1, solver=lbfgs; total time=   0.0s\n",
      "[CV] END C=0.01, class_weight=balanced, penalty=l1, solver=lbfgs; total time=   0.0s\n",
      "[CV] END C=0.01, class_weight=balanced, penalty=l1, solver=lbfgs; total time=   0.0s\n",
      "[CV] END C=0.01, class_weight=balanced, penalty=l1, solver=lbfgs; total time=   0.0s\n",
      "[CV] END C=0.01, class_weight=balanced, penalty=l1, solver=lbfgs; total time=   0.0s\n"
     ]
    },
    {
     "name": "stderr",
     "output_type": "stream",
     "text": [
      "C:\\Users\\ivand\\Code\\Py-Projects\\.venv\\lib\\site-packages\\sklearn\\model_selection\\_split.py:737: UserWarning: The least populated class in y has only 1 members, which is less than n_splits=5.\n",
      "  warnings.warn(\n"
     ]
    },
    {
     "name": "stdout",
     "output_type": "stream",
     "text": [
      "[CV] END C=0.01, class_weight=balanced, penalty=l1, solver=liblinear; total time=   0.2s\n",
      "[CV] END C=0.01, class_weight=balanced, penalty=l1, solver=liblinear; total time=   0.1s\n",
      "[CV] END C=0.01, class_weight=balanced, penalty=l1, solver=liblinear; total time=   0.2s\n",
      "[CV] END C=0.01, class_weight=balanced, penalty=l1, solver=liblinear; total time=   0.2s\n",
      "[CV] END C=0.01, class_weight=balanced, penalty=l1, solver=liblinear; total time=   0.2s\n"
     ]
    },
    {
     "name": "stderr",
     "output_type": "stream",
     "text": [
      "C:\\Users\\ivand\\Code\\Py-Projects\\.venv\\lib\\site-packages\\sklearn\\linear_model\\_sag.py:350: ConvergenceWarning: The max_iter was reached which means the coef_ did not converge\n",
      "  warnings.warn(\n"
     ]
    },
    {
     "name": "stdout",
     "output_type": "stream",
     "text": [
      "[CV] END C=0.01, class_weight=balanced, penalty=l1, solver=saga; total time=   5.6s\n"
     ]
    },
    {
     "name": "stderr",
     "output_type": "stream",
     "text": [
      "C:\\Users\\ivand\\Code\\Py-Projects\\.venv\\lib\\site-packages\\sklearn\\linear_model\\_sag.py:350: ConvergenceWarning: The max_iter was reached which means the coef_ did not converge\n",
      "  warnings.warn(\n"
     ]
    },
    {
     "name": "stdout",
     "output_type": "stream",
     "text": [
      "[CV] END C=0.01, class_weight=balanced, penalty=l1, solver=saga; total time=   5.6s\n"
     ]
    },
    {
     "name": "stderr",
     "output_type": "stream",
     "text": [
      "C:\\Users\\ivand\\Code\\Py-Projects\\.venv\\lib\\site-packages\\sklearn\\linear_model\\_sag.py:350: ConvergenceWarning: The max_iter was reached which means the coef_ did not converge\n",
      "  warnings.warn(\n"
     ]
    },
    {
     "name": "stdout",
     "output_type": "stream",
     "text": [
      "[CV] END C=0.01, class_weight=balanced, penalty=l1, solver=saga; total time=   5.5s\n"
     ]
    },
    {
     "name": "stderr",
     "output_type": "stream",
     "text": [
      "C:\\Users\\ivand\\Code\\Py-Projects\\.venv\\lib\\site-packages\\sklearn\\linear_model\\_sag.py:350: ConvergenceWarning: The max_iter was reached which means the coef_ did not converge\n",
      "  warnings.warn(\n"
     ]
    },
    {
     "name": "stdout",
     "output_type": "stream",
     "text": [
      "[CV] END C=0.01, class_weight=balanced, penalty=l1, solver=saga; total time=   5.8s\n"
     ]
    },
    {
     "name": "stderr",
     "output_type": "stream",
     "text": [
      "C:\\Users\\ivand\\Code\\Py-Projects\\.venv\\lib\\site-packages\\sklearn\\linear_model\\_sag.py:350: ConvergenceWarning: The max_iter was reached which means the coef_ did not converge\n",
      "  warnings.warn(\n"
     ]
    },
    {
     "name": "stdout",
     "output_type": "stream",
     "text": [
      "[CV] END C=0.01, class_weight=balanced, penalty=l1, solver=saga; total time=   5.7s\n",
      "[CV] END C=0.01, class_weight=balanced, penalty=l2, solver=newton-cg; total time=   1.2s\n",
      "[CV] END C=0.01, class_weight=balanced, penalty=l2, solver=newton-cg; total time=   1.6s\n",
      "[CV] END C=0.01, class_weight=balanced, penalty=l2, solver=newton-cg; total time=   0.7s\n",
      "[CV] END C=0.01, class_weight=balanced, penalty=l2, solver=newton-cg; total time=   1.8s\n",
      "[CV] END C=0.01, class_weight=balanced, penalty=l2, solver=newton-cg; total time=   1.6s\n"
     ]
    },
    {
     "name": "stderr",
     "output_type": "stream",
     "text": [
      "C:\\Users\\ivand\\Code\\Py-Projects\\.venv\\lib\\site-packages\\sklearn\\linear_model\\_logistic.py:460: ConvergenceWarning: lbfgs failed to converge (status=1):\n",
      "STOP: TOTAL NO. of ITERATIONS REACHED LIMIT.\n",
      "\n",
      "Increase the number of iterations (max_iter) or scale the data as shown in:\n",
      "    https://scikit-learn.org/stable/modules/preprocessing.html\n",
      "Please also refer to the documentation for alternative solver options:\n",
      "    https://scikit-learn.org/stable/modules/linear_model.html#logistic-regression\n",
      "  n_iter_i = _check_optimize_result(\n"
     ]
    },
    {
     "name": "stdout",
     "output_type": "stream",
     "text": [
      "[CV] END C=0.01, class_weight=balanced, penalty=l2, solver=lbfgs; total time=   0.5s\n"
     ]
    },
    {
     "name": "stderr",
     "output_type": "stream",
     "text": [
      "C:\\Users\\ivand\\Code\\Py-Projects\\.venv\\lib\\site-packages\\sklearn\\linear_model\\_logistic.py:460: ConvergenceWarning: lbfgs failed to converge (status=1):\n",
      "STOP: TOTAL NO. of ITERATIONS REACHED LIMIT.\n",
      "\n",
      "Increase the number of iterations (max_iter) or scale the data as shown in:\n",
      "    https://scikit-learn.org/stable/modules/preprocessing.html\n",
      "Please also refer to the documentation for alternative solver options:\n",
      "    https://scikit-learn.org/stable/modules/linear_model.html#logistic-regression\n",
      "  n_iter_i = _check_optimize_result(\n"
     ]
    },
    {
     "name": "stdout",
     "output_type": "stream",
     "text": [
      "[CV] END C=0.01, class_weight=balanced, penalty=l2, solver=lbfgs; total time=   0.5s\n"
     ]
    },
    {
     "name": "stderr",
     "output_type": "stream",
     "text": [
      "C:\\Users\\ivand\\Code\\Py-Projects\\.venv\\lib\\site-packages\\sklearn\\linear_model\\_logistic.py:460: ConvergenceWarning: lbfgs failed to converge (status=1):\n",
      "STOP: TOTAL NO. of ITERATIONS REACHED LIMIT.\n",
      "\n",
      "Increase the number of iterations (max_iter) or scale the data as shown in:\n",
      "    https://scikit-learn.org/stable/modules/preprocessing.html\n",
      "Please also refer to the documentation for alternative solver options:\n",
      "    https://scikit-learn.org/stable/modules/linear_model.html#logistic-regression\n",
      "  n_iter_i = _check_optimize_result(\n"
     ]
    },
    {
     "name": "stdout",
     "output_type": "stream",
     "text": [
      "[CV] END C=0.01, class_weight=balanced, penalty=l2, solver=lbfgs; total time=   0.5s\n"
     ]
    },
    {
     "name": "stderr",
     "output_type": "stream",
     "text": [
      "C:\\Users\\ivand\\Code\\Py-Projects\\.venv\\lib\\site-packages\\sklearn\\linear_model\\_logistic.py:460: ConvergenceWarning: lbfgs failed to converge (status=1):\n",
      "STOP: TOTAL NO. of ITERATIONS REACHED LIMIT.\n",
      "\n",
      "Increase the number of iterations (max_iter) or scale the data as shown in:\n",
      "    https://scikit-learn.org/stable/modules/preprocessing.html\n",
      "Please also refer to the documentation for alternative solver options:\n",
      "    https://scikit-learn.org/stable/modules/linear_model.html#logistic-regression\n",
      "  n_iter_i = _check_optimize_result(\n"
     ]
    },
    {
     "name": "stdout",
     "output_type": "stream",
     "text": [
      "[CV] END C=0.01, class_weight=balanced, penalty=l2, solver=lbfgs; total time=   0.5s\n"
     ]
    },
    {
     "name": "stderr",
     "output_type": "stream",
     "text": [
      "C:\\Users\\ivand\\Code\\Py-Projects\\.venv\\lib\\site-packages\\sklearn\\linear_model\\_logistic.py:460: ConvergenceWarning: lbfgs failed to converge (status=1):\n",
      "STOP: TOTAL NO. of ITERATIONS REACHED LIMIT.\n",
      "\n",
      "Increase the number of iterations (max_iter) or scale the data as shown in:\n",
      "    https://scikit-learn.org/stable/modules/preprocessing.html\n",
      "Please also refer to the documentation for alternative solver options:\n",
      "    https://scikit-learn.org/stable/modules/linear_model.html#logistic-regression\n",
      "  n_iter_i = _check_optimize_result(\n"
     ]
    },
    {
     "name": "stdout",
     "output_type": "stream",
     "text": [
      "[CV] END C=0.01, class_weight=balanced, penalty=l2, solver=lbfgs; total time=   0.5s\n",
      "[CV] END C=0.01, class_weight=balanced, penalty=l2, solver=liblinear; total time=   0.9s\n",
      "[CV] END C=0.01, class_weight=balanced, penalty=l2, solver=liblinear; total time=   0.8s\n",
      "[CV] END C=0.01, class_weight=balanced, penalty=l2, solver=liblinear; total time=   0.8s\n",
      "[CV] END C=0.01, class_weight=balanced, penalty=l2, solver=liblinear; total time=   0.9s\n",
      "[CV] END C=0.01, class_weight=balanced, penalty=l2, solver=liblinear; total time=   0.9s\n"
     ]
    },
    {
     "name": "stderr",
     "output_type": "stream",
     "text": [
      "C:\\Users\\ivand\\Code\\Py-Projects\\.venv\\lib\\site-packages\\sklearn\\linear_model\\_sag.py:350: ConvergenceWarning: The max_iter was reached which means the coef_ did not converge\n",
      "  warnings.warn(\n"
     ]
    },
    {
     "name": "stdout",
     "output_type": "stream",
     "text": [
      "[CV] END C=0.01, class_weight=balanced, penalty=l2, solver=saga; total time=   3.5s\n"
     ]
    },
    {
     "name": "stderr",
     "output_type": "stream",
     "text": [
      "C:\\Users\\ivand\\Code\\Py-Projects\\.venv\\lib\\site-packages\\sklearn\\linear_model\\_sag.py:350: ConvergenceWarning: The max_iter was reached which means the coef_ did not converge\n",
      "  warnings.warn(\n"
     ]
    },
    {
     "name": "stdout",
     "output_type": "stream",
     "text": [
      "[CV] END C=0.01, class_weight=balanced, penalty=l2, solver=saga; total time=   3.5s\n"
     ]
    },
    {
     "name": "stderr",
     "output_type": "stream",
     "text": [
      "C:\\Users\\ivand\\Code\\Py-Projects\\.venv\\lib\\site-packages\\sklearn\\linear_model\\_sag.py:350: ConvergenceWarning: The max_iter was reached which means the coef_ did not converge\n",
      "  warnings.warn(\n"
     ]
    },
    {
     "name": "stdout",
     "output_type": "stream",
     "text": [
      "[CV] END C=0.01, class_weight=balanced, penalty=l2, solver=saga; total time=   3.5s\n"
     ]
    },
    {
     "name": "stderr",
     "output_type": "stream",
     "text": [
      "C:\\Users\\ivand\\Code\\Py-Projects\\.venv\\lib\\site-packages\\sklearn\\linear_model\\_sag.py:350: ConvergenceWarning: The max_iter was reached which means the coef_ did not converge\n",
      "  warnings.warn(\n"
     ]
    },
    {
     "name": "stdout",
     "output_type": "stream",
     "text": [
      "[CV] END C=0.01, class_weight=balanced, penalty=l2, solver=saga; total time=   3.5s\n"
     ]
    },
    {
     "name": "stderr",
     "output_type": "stream",
     "text": [
      "C:\\Users\\ivand\\Code\\Py-Projects\\.venv\\lib\\site-packages\\sklearn\\linear_model\\_sag.py:350: ConvergenceWarning: The max_iter was reached which means the coef_ did not converge\n",
      "  warnings.warn(\n"
     ]
    },
    {
     "name": "stdout",
     "output_type": "stream",
     "text": [
      "[CV] END C=0.01, class_weight=balanced, penalty=l2, solver=saga; total time=   3.5s\n",
      "[CV] END C=0.1, class_weight=balanced, penalty=l1, solver=newton-cg; total time=   0.0s\n",
      "[CV] END C=0.1, class_weight=balanced, penalty=l1, solver=newton-cg; total time=   0.0s\n",
      "[CV] END C=0.1, class_weight=balanced, penalty=l1, solver=newton-cg; total time=   0.0s\n",
      "[CV] END C=0.1, class_weight=balanced, penalty=l1, solver=newton-cg; total time=   0.0s\n",
      "[CV] END C=0.1, class_weight=balanced, penalty=l1, solver=newton-cg; total time=   0.0s\n",
      "[CV] END C=0.1, class_weight=balanced, penalty=l1, solver=lbfgs; total time=   0.0s\n",
      "[CV] END C=0.1, class_weight=balanced, penalty=l1, solver=lbfgs; total time=   0.0s\n",
      "[CV] END C=0.1, class_weight=balanced, penalty=l1, solver=lbfgs; total time=   0.0s\n",
      "[CV] END C=0.1, class_weight=balanced, penalty=l1, solver=lbfgs; total time=   0.0s\n",
      "[CV] END C=0.1, class_weight=balanced, penalty=l1, solver=lbfgs; total time=   0.0s\n",
      "[CV] END C=0.1, class_weight=balanced, penalty=l1, solver=liblinear; total time=   0.5s\n",
      "[CV] END C=0.1, class_weight=balanced, penalty=l1, solver=liblinear; total time=   0.4s\n",
      "[CV] END C=0.1, class_weight=balanced, penalty=l1, solver=liblinear; total time=   0.5s\n",
      "[CV] END C=0.1, class_weight=balanced, penalty=l1, solver=liblinear; total time=   0.5s\n",
      "[CV] END C=0.1, class_weight=balanced, penalty=l1, solver=liblinear; total time=   0.5s\n"
     ]
    },
    {
     "name": "stderr",
     "output_type": "stream",
     "text": [
      "C:\\Users\\ivand\\Code\\Py-Projects\\.venv\\lib\\site-packages\\sklearn\\linear_model\\_sag.py:350: ConvergenceWarning: The max_iter was reached which means the coef_ did not converge\n",
      "  warnings.warn(\n"
     ]
    },
    {
     "name": "stdout",
     "output_type": "stream",
     "text": [
      "[CV] END C=0.1, class_weight=balanced, penalty=l1, solver=saga; total time=   6.2s\n"
     ]
    },
    {
     "name": "stderr",
     "output_type": "stream",
     "text": [
      "C:\\Users\\ivand\\Code\\Py-Projects\\.venv\\lib\\site-packages\\sklearn\\linear_model\\_sag.py:350: ConvergenceWarning: The max_iter was reached which means the coef_ did not converge\n",
      "  warnings.warn(\n"
     ]
    },
    {
     "name": "stdout",
     "output_type": "stream",
     "text": [
      "[CV] END C=0.1, class_weight=balanced, penalty=l1, solver=saga; total time=   6.2s\n"
     ]
    },
    {
     "name": "stderr",
     "output_type": "stream",
     "text": [
      "C:\\Users\\ivand\\Code\\Py-Projects\\.venv\\lib\\site-packages\\sklearn\\linear_model\\_sag.py:350: ConvergenceWarning: The max_iter was reached which means the coef_ did not converge\n",
      "  warnings.warn(\n"
     ]
    },
    {
     "name": "stdout",
     "output_type": "stream",
     "text": [
      "[CV] END C=0.1, class_weight=balanced, penalty=l1, solver=saga; total time=   6.2s\n"
     ]
    },
    {
     "name": "stderr",
     "output_type": "stream",
     "text": [
      "C:\\Users\\ivand\\Code\\Py-Projects\\.venv\\lib\\site-packages\\sklearn\\linear_model\\_sag.py:350: ConvergenceWarning: The max_iter was reached which means the coef_ did not converge\n",
      "  warnings.warn(\n"
     ]
    },
    {
     "name": "stdout",
     "output_type": "stream",
     "text": [
      "[CV] END C=0.1, class_weight=balanced, penalty=l1, solver=saga; total time=   6.3s\n"
     ]
    },
    {
     "name": "stderr",
     "output_type": "stream",
     "text": [
      "C:\\Users\\ivand\\Code\\Py-Projects\\.venv\\lib\\site-packages\\sklearn\\linear_model\\_sag.py:350: ConvergenceWarning: The max_iter was reached which means the coef_ did not converge\n",
      "  warnings.warn(\n"
     ]
    },
    {
     "name": "stdout",
     "output_type": "stream",
     "text": [
      "[CV] END C=0.1, class_weight=balanced, penalty=l1, solver=saga; total time=   6.4s\n",
      "[CV] END C=0.1, class_weight=balanced, penalty=l2, solver=newton-cg; total time=   3.2s\n",
      "[CV] END C=0.1, class_weight=balanced, penalty=l2, solver=newton-cg; total time=   2.9s\n",
      "[CV] END C=0.1, class_weight=balanced, penalty=l2, solver=newton-cg; total time=   2.2s\n",
      "[CV] END C=0.1, class_weight=balanced, penalty=l2, solver=newton-cg; total time=   3.8s\n",
      "[CV] END C=0.1, class_weight=balanced, penalty=l2, solver=newton-cg; total time=   2.3s\n"
     ]
    },
    {
     "name": "stderr",
     "output_type": "stream",
     "text": [
      "C:\\Users\\ivand\\Code\\Py-Projects\\.venv\\lib\\site-packages\\sklearn\\linear_model\\_logistic.py:460: ConvergenceWarning: lbfgs failed to converge (status=1):\n",
      "STOP: TOTAL NO. of ITERATIONS REACHED LIMIT.\n",
      "\n",
      "Increase the number of iterations (max_iter) or scale the data as shown in:\n",
      "    https://scikit-learn.org/stable/modules/preprocessing.html\n",
      "Please also refer to the documentation for alternative solver options:\n",
      "    https://scikit-learn.org/stable/modules/linear_model.html#logistic-regression\n",
      "  n_iter_i = _check_optimize_result(\n"
     ]
    },
    {
     "name": "stdout",
     "output_type": "stream",
     "text": [
      "[CV] END C=0.1, class_weight=balanced, penalty=l2, solver=lbfgs; total time=   0.5s\n"
     ]
    },
    {
     "name": "stderr",
     "output_type": "stream",
     "text": [
      "C:\\Users\\ivand\\Code\\Py-Projects\\.venv\\lib\\site-packages\\sklearn\\linear_model\\_logistic.py:460: ConvergenceWarning: lbfgs failed to converge (status=1):\n",
      "STOP: TOTAL NO. of ITERATIONS REACHED LIMIT.\n",
      "\n",
      "Increase the number of iterations (max_iter) or scale the data as shown in:\n",
      "    https://scikit-learn.org/stable/modules/preprocessing.html\n",
      "Please also refer to the documentation for alternative solver options:\n",
      "    https://scikit-learn.org/stable/modules/linear_model.html#logistic-regression\n",
      "  n_iter_i = _check_optimize_result(\n"
     ]
    },
    {
     "name": "stdout",
     "output_type": "stream",
     "text": [
      "[CV] END C=0.1, class_weight=balanced, penalty=l2, solver=lbfgs; total time=   0.5s\n"
     ]
    },
    {
     "name": "stderr",
     "output_type": "stream",
     "text": [
      "C:\\Users\\ivand\\Code\\Py-Projects\\.venv\\lib\\site-packages\\sklearn\\linear_model\\_logistic.py:460: ConvergenceWarning: lbfgs failed to converge (status=1):\n",
      "STOP: TOTAL NO. of ITERATIONS REACHED LIMIT.\n",
      "\n",
      "Increase the number of iterations (max_iter) or scale the data as shown in:\n",
      "    https://scikit-learn.org/stable/modules/preprocessing.html\n",
      "Please also refer to the documentation for alternative solver options:\n",
      "    https://scikit-learn.org/stable/modules/linear_model.html#logistic-regression\n",
      "  n_iter_i = _check_optimize_result(\n"
     ]
    },
    {
     "name": "stdout",
     "output_type": "stream",
     "text": [
      "[CV] END C=0.1, class_weight=balanced, penalty=l2, solver=lbfgs; total time=   0.5s\n"
     ]
    },
    {
     "name": "stderr",
     "output_type": "stream",
     "text": [
      "C:\\Users\\ivand\\Code\\Py-Projects\\.venv\\lib\\site-packages\\sklearn\\linear_model\\_logistic.py:460: ConvergenceWarning: lbfgs failed to converge (status=1):\n",
      "STOP: TOTAL NO. of ITERATIONS REACHED LIMIT.\n",
      "\n",
      "Increase the number of iterations (max_iter) or scale the data as shown in:\n",
      "    https://scikit-learn.org/stable/modules/preprocessing.html\n",
      "Please also refer to the documentation for alternative solver options:\n",
      "    https://scikit-learn.org/stable/modules/linear_model.html#logistic-regression\n",
      "  n_iter_i = _check_optimize_result(\n"
     ]
    },
    {
     "name": "stdout",
     "output_type": "stream",
     "text": [
      "[CV] END C=0.1, class_weight=balanced, penalty=l2, solver=lbfgs; total time=   0.5s\n"
     ]
    },
    {
     "name": "stderr",
     "output_type": "stream",
     "text": [
      "C:\\Users\\ivand\\Code\\Py-Projects\\.venv\\lib\\site-packages\\sklearn\\linear_model\\_logistic.py:460: ConvergenceWarning: lbfgs failed to converge (status=1):\n",
      "STOP: TOTAL NO. of ITERATIONS REACHED LIMIT.\n",
      "\n",
      "Increase the number of iterations (max_iter) or scale the data as shown in:\n",
      "    https://scikit-learn.org/stable/modules/preprocessing.html\n",
      "Please also refer to the documentation for alternative solver options:\n",
      "    https://scikit-learn.org/stable/modules/linear_model.html#logistic-regression\n",
      "  n_iter_i = _check_optimize_result(\n"
     ]
    },
    {
     "name": "stdout",
     "output_type": "stream",
     "text": [
      "[CV] END C=0.1, class_weight=balanced, penalty=l2, solver=lbfgs; total time=   0.5s\n",
      "[CV] END C=0.1, class_weight=balanced, penalty=l2, solver=liblinear; total time=   1.6s\n",
      "[CV] END C=0.1, class_weight=balanced, penalty=l2, solver=liblinear; total time=   1.5s\n",
      "[CV] END C=0.1, class_weight=balanced, penalty=l2, solver=liblinear; total time=   1.5s\n",
      "[CV] END C=0.1, class_weight=balanced, penalty=l2, solver=liblinear; total time=   1.5s\n",
      "[CV] END C=0.1, class_weight=balanced, penalty=l2, solver=liblinear; total time=   1.5s\n"
     ]
    },
    {
     "name": "stderr",
     "output_type": "stream",
     "text": [
      "C:\\Users\\ivand\\Code\\Py-Projects\\.venv\\lib\\site-packages\\sklearn\\linear_model\\_sag.py:350: ConvergenceWarning: The max_iter was reached which means the coef_ did not converge\n",
      "  warnings.warn(\n"
     ]
    },
    {
     "name": "stdout",
     "output_type": "stream",
     "text": [
      "[CV] END C=0.1, class_weight=balanced, penalty=l2, solver=saga; total time=   3.5s\n"
     ]
    },
    {
     "name": "stderr",
     "output_type": "stream",
     "text": [
      "C:\\Users\\ivand\\Code\\Py-Projects\\.venv\\lib\\site-packages\\sklearn\\linear_model\\_sag.py:350: ConvergenceWarning: The max_iter was reached which means the coef_ did not converge\n",
      "  warnings.warn(\n"
     ]
    },
    {
     "name": "stdout",
     "output_type": "stream",
     "text": [
      "[CV] END C=0.1, class_weight=balanced, penalty=l2, solver=saga; total time=   3.4s\n"
     ]
    },
    {
     "name": "stderr",
     "output_type": "stream",
     "text": [
      "C:\\Users\\ivand\\Code\\Py-Projects\\.venv\\lib\\site-packages\\sklearn\\linear_model\\_sag.py:350: ConvergenceWarning: The max_iter was reached which means the coef_ did not converge\n",
      "  warnings.warn(\n"
     ]
    },
    {
     "name": "stdout",
     "output_type": "stream",
     "text": [
      "[CV] END C=0.1, class_weight=balanced, penalty=l2, solver=saga; total time=   3.4s\n"
     ]
    },
    {
     "name": "stderr",
     "output_type": "stream",
     "text": [
      "C:\\Users\\ivand\\Code\\Py-Projects\\.venv\\lib\\site-packages\\sklearn\\linear_model\\_sag.py:350: ConvergenceWarning: The max_iter was reached which means the coef_ did not converge\n",
      "  warnings.warn(\n"
     ]
    },
    {
     "name": "stdout",
     "output_type": "stream",
     "text": [
      "[CV] END C=0.1, class_weight=balanced, penalty=l2, solver=saga; total time=   3.5s\n"
     ]
    },
    {
     "name": "stderr",
     "output_type": "stream",
     "text": [
      "C:\\Users\\ivand\\Code\\Py-Projects\\.venv\\lib\\site-packages\\sklearn\\linear_model\\_sag.py:350: ConvergenceWarning: The max_iter was reached which means the coef_ did not converge\n",
      "  warnings.warn(\n"
     ]
    },
    {
     "name": "stdout",
     "output_type": "stream",
     "text": [
      "[CV] END C=0.1, class_weight=balanced, penalty=l2, solver=saga; total time=   3.6s\n",
      "[CV] END C=1, class_weight=balanced, penalty=l1, solver=newton-cg; total time=   0.0s\n",
      "[CV] END C=1, class_weight=balanced, penalty=l1, solver=newton-cg; total time=   0.0s\n",
      "[CV] END C=1, class_weight=balanced, penalty=l1, solver=newton-cg; total time=   0.0s\n",
      "[CV] END C=1, class_weight=balanced, penalty=l1, solver=newton-cg; total time=   0.0s\n",
      "[CV] END C=1, class_weight=balanced, penalty=l1, solver=newton-cg; total time=   0.0s\n",
      "[CV] END C=1, class_weight=balanced, penalty=l1, solver=lbfgs; total time=   0.0s\n",
      "[CV] END C=1, class_weight=balanced, penalty=l1, solver=lbfgs; total time=   0.0s\n",
      "[CV] END C=1, class_weight=balanced, penalty=l1, solver=lbfgs; total time=   0.0s\n",
      "[CV] END C=1, class_weight=balanced, penalty=l1, solver=lbfgs; total time=   0.0s\n",
      "[CV] END C=1, class_weight=balanced, penalty=l1, solver=lbfgs; total time=   0.0s\n",
      "[CV] END C=1, class_weight=balanced, penalty=l1, solver=liblinear; total time=   2.6s\n",
      "[CV] END C=1, class_weight=balanced, penalty=l1, solver=liblinear; total time=   2.6s\n",
      "[CV] END C=1, class_weight=balanced, penalty=l1, solver=liblinear; total time=   3.1s\n",
      "[CV] END C=1, class_weight=balanced, penalty=l1, solver=liblinear; total time=   3.1s\n",
      "[CV] END C=1, class_weight=balanced, penalty=l1, solver=liblinear; total time=   4.1s\n"
     ]
    },
    {
     "name": "stderr",
     "output_type": "stream",
     "text": [
      "C:\\Users\\ivand\\Code\\Py-Projects\\.venv\\lib\\site-packages\\sklearn\\linear_model\\_sag.py:350: ConvergenceWarning: The max_iter was reached which means the coef_ did not converge\n",
      "  warnings.warn(\n"
     ]
    },
    {
     "name": "stdout",
     "output_type": "stream",
     "text": [
      "[CV] END C=1, class_weight=balanced, penalty=l1, solver=saga; total time=  12.5s\n"
     ]
    },
    {
     "name": "stderr",
     "output_type": "stream",
     "text": [
      "C:\\Users\\ivand\\Code\\Py-Projects\\.venv\\lib\\site-packages\\sklearn\\linear_model\\_sag.py:350: ConvergenceWarning: The max_iter was reached which means the coef_ did not converge\n",
      "  warnings.warn(\n"
     ]
    },
    {
     "name": "stdout",
     "output_type": "stream",
     "text": [
      "[CV] END C=1, class_weight=balanced, penalty=l1, solver=saga; total time=  12.8s\n"
     ]
    },
    {
     "name": "stderr",
     "output_type": "stream",
     "text": [
      "C:\\Users\\ivand\\Code\\Py-Projects\\.venv\\lib\\site-packages\\sklearn\\linear_model\\_sag.py:350: ConvergenceWarning: The max_iter was reached which means the coef_ did not converge\n",
      "  warnings.warn(\n"
     ]
    },
    {
     "name": "stdout",
     "output_type": "stream",
     "text": [
      "[CV] END C=1, class_weight=balanced, penalty=l1, solver=saga; total time=  13.7s\n"
     ]
    },
    {
     "name": "stderr",
     "output_type": "stream",
     "text": [
      "C:\\Users\\ivand\\Code\\Py-Projects\\.venv\\lib\\site-packages\\sklearn\\linear_model\\_sag.py:350: ConvergenceWarning: The max_iter was reached which means the coef_ did not converge\n",
      "  warnings.warn(\n"
     ]
    },
    {
     "name": "stdout",
     "output_type": "stream",
     "text": [
      "[CV] END C=1, class_weight=balanced, penalty=l1, solver=saga; total time=  12.9s\n"
     ]
    },
    {
     "name": "stderr",
     "output_type": "stream",
     "text": [
      "C:\\Users\\ivand\\Code\\Py-Projects\\.venv\\lib\\site-packages\\sklearn\\linear_model\\_sag.py:350: ConvergenceWarning: The max_iter was reached which means the coef_ did not converge\n",
      "  warnings.warn(\n"
     ]
    },
    {
     "name": "stdout",
     "output_type": "stream",
     "text": [
      "[CV] END C=1, class_weight=balanced, penalty=l1, solver=saga; total time=  12.9s\n",
      "[CV] END C=1, class_weight=balanced, penalty=l2, solver=newton-cg; total time=   7.2s\n",
      "[CV] END C=1, class_weight=balanced, penalty=l2, solver=newton-cg; total time=   6.9s\n",
      "[CV] END C=1, class_weight=balanced, penalty=l2, solver=newton-cg; total time=   2.8s\n",
      "[CV] END C=1, class_weight=balanced, penalty=l2, solver=newton-cg; total time=   5.3s\n",
      "[CV] END C=1, class_weight=balanced, penalty=l2, solver=newton-cg; total time=   6.1s\n"
     ]
    },
    {
     "name": "stderr",
     "output_type": "stream",
     "text": [
      "C:\\Users\\ivand\\Code\\Py-Projects\\.venv\\lib\\site-packages\\sklearn\\linear_model\\_logistic.py:460: ConvergenceWarning: lbfgs failed to converge (status=1):\n",
      "STOP: TOTAL NO. of ITERATIONS REACHED LIMIT.\n",
      "\n",
      "Increase the number of iterations (max_iter) or scale the data as shown in:\n",
      "    https://scikit-learn.org/stable/modules/preprocessing.html\n",
      "Please also refer to the documentation for alternative solver options:\n",
      "    https://scikit-learn.org/stable/modules/linear_model.html#logistic-regression\n",
      "  n_iter_i = _check_optimize_result(\n"
     ]
    },
    {
     "name": "stdout",
     "output_type": "stream",
     "text": [
      "[CV] END C=1, class_weight=balanced, penalty=l2, solver=lbfgs; total time=   0.5s\n"
     ]
    },
    {
     "name": "stderr",
     "output_type": "stream",
     "text": [
      "C:\\Users\\ivand\\Code\\Py-Projects\\.venv\\lib\\site-packages\\sklearn\\linear_model\\_logistic.py:460: ConvergenceWarning: lbfgs failed to converge (status=1):\n",
      "STOP: TOTAL NO. of ITERATIONS REACHED LIMIT.\n",
      "\n",
      "Increase the number of iterations (max_iter) or scale the data as shown in:\n",
      "    https://scikit-learn.org/stable/modules/preprocessing.html\n",
      "Please also refer to the documentation for alternative solver options:\n",
      "    https://scikit-learn.org/stable/modules/linear_model.html#logistic-regression\n",
      "  n_iter_i = _check_optimize_result(\n"
     ]
    },
    {
     "name": "stdout",
     "output_type": "stream",
     "text": [
      "[CV] END C=1, class_weight=balanced, penalty=l2, solver=lbfgs; total time=   0.5s\n"
     ]
    },
    {
     "name": "stderr",
     "output_type": "stream",
     "text": [
      "C:\\Users\\ivand\\Code\\Py-Projects\\.venv\\lib\\site-packages\\sklearn\\linear_model\\_logistic.py:460: ConvergenceWarning: lbfgs failed to converge (status=1):\n",
      "STOP: TOTAL NO. of ITERATIONS REACHED LIMIT.\n",
      "\n",
      "Increase the number of iterations (max_iter) or scale the data as shown in:\n",
      "    https://scikit-learn.org/stable/modules/preprocessing.html\n",
      "Please also refer to the documentation for alternative solver options:\n",
      "    https://scikit-learn.org/stable/modules/linear_model.html#logistic-regression\n",
      "  n_iter_i = _check_optimize_result(\n"
     ]
    },
    {
     "name": "stdout",
     "output_type": "stream",
     "text": [
      "[CV] END C=1, class_weight=balanced, penalty=l2, solver=lbfgs; total time=   0.6s\n"
     ]
    },
    {
     "name": "stderr",
     "output_type": "stream",
     "text": [
      "C:\\Users\\ivand\\Code\\Py-Projects\\.venv\\lib\\site-packages\\sklearn\\linear_model\\_logistic.py:460: ConvergenceWarning: lbfgs failed to converge (status=1):\n",
      "STOP: TOTAL NO. of ITERATIONS REACHED LIMIT.\n",
      "\n",
      "Increase the number of iterations (max_iter) or scale the data as shown in:\n",
      "    https://scikit-learn.org/stable/modules/preprocessing.html\n",
      "Please also refer to the documentation for alternative solver options:\n",
      "    https://scikit-learn.org/stable/modules/linear_model.html#logistic-regression\n",
      "  n_iter_i = _check_optimize_result(\n"
     ]
    },
    {
     "name": "stdout",
     "output_type": "stream",
     "text": [
      "[CV] END C=1, class_weight=balanced, penalty=l2, solver=lbfgs; total time=   0.5s\n"
     ]
    },
    {
     "name": "stderr",
     "output_type": "stream",
     "text": [
      "C:\\Users\\ivand\\Code\\Py-Projects\\.venv\\lib\\site-packages\\sklearn\\linear_model\\_logistic.py:460: ConvergenceWarning: lbfgs failed to converge (status=1):\n",
      "STOP: TOTAL NO. of ITERATIONS REACHED LIMIT.\n",
      "\n",
      "Increase the number of iterations (max_iter) or scale the data as shown in:\n",
      "    https://scikit-learn.org/stable/modules/preprocessing.html\n",
      "Please also refer to the documentation for alternative solver options:\n",
      "    https://scikit-learn.org/stable/modules/linear_model.html#logistic-regression\n",
      "  n_iter_i = _check_optimize_result(\n"
     ]
    },
    {
     "name": "stdout",
     "output_type": "stream",
     "text": [
      "[CV] END C=1, class_weight=balanced, penalty=l2, solver=lbfgs; total time=   0.5s\n",
      "[CV] END C=1, class_weight=balanced, penalty=l2, solver=liblinear; total time=   2.9s\n",
      "[CV] END C=1, class_weight=balanced, penalty=l2, solver=liblinear; total time=   2.7s\n",
      "[CV] END C=1, class_weight=balanced, penalty=l2, solver=liblinear; total time=   2.7s\n",
      "[CV] END C=1, class_weight=balanced, penalty=l2, solver=liblinear; total time=   2.8s\n",
      "[CV] END C=1, class_weight=balanced, penalty=l2, solver=liblinear; total time=   2.7s\n"
     ]
    },
    {
     "name": "stderr",
     "output_type": "stream",
     "text": [
      "C:\\Users\\ivand\\Code\\Py-Projects\\.venv\\lib\\site-packages\\sklearn\\linear_model\\_sag.py:350: ConvergenceWarning: The max_iter was reached which means the coef_ did not converge\n",
      "  warnings.warn(\n"
     ]
    },
    {
     "name": "stdout",
     "output_type": "stream",
     "text": [
      "[CV] END C=1, class_weight=balanced, penalty=l2, solver=saga; total time=   3.5s\n"
     ]
    },
    {
     "name": "stderr",
     "output_type": "stream",
     "text": [
      "C:\\Users\\ivand\\Code\\Py-Projects\\.venv\\lib\\site-packages\\sklearn\\linear_model\\_sag.py:350: ConvergenceWarning: The max_iter was reached which means the coef_ did not converge\n",
      "  warnings.warn(\n"
     ]
    },
    {
     "name": "stdout",
     "output_type": "stream",
     "text": [
      "[CV] END C=1, class_weight=balanced, penalty=l2, solver=saga; total time=   3.5s\n"
     ]
    },
    {
     "name": "stderr",
     "output_type": "stream",
     "text": [
      "C:\\Users\\ivand\\Code\\Py-Projects\\.venv\\lib\\site-packages\\sklearn\\linear_model\\_sag.py:350: ConvergenceWarning: The max_iter was reached which means the coef_ did not converge\n",
      "  warnings.warn(\n"
     ]
    },
    {
     "name": "stdout",
     "output_type": "stream",
     "text": [
      "[CV] END C=1, class_weight=balanced, penalty=l2, solver=saga; total time=   3.6s\n"
     ]
    },
    {
     "name": "stderr",
     "output_type": "stream",
     "text": [
      "C:\\Users\\ivand\\Code\\Py-Projects\\.venv\\lib\\site-packages\\sklearn\\linear_model\\_sag.py:350: ConvergenceWarning: The max_iter was reached which means the coef_ did not converge\n",
      "  warnings.warn(\n"
     ]
    },
    {
     "name": "stdout",
     "output_type": "stream",
     "text": [
      "[CV] END C=1, class_weight=balanced, penalty=l2, solver=saga; total time=   3.6s\n"
     ]
    },
    {
     "name": "stderr",
     "output_type": "stream",
     "text": [
      "C:\\Users\\ivand\\Code\\Py-Projects\\.venv\\lib\\site-packages\\sklearn\\linear_model\\_sag.py:350: ConvergenceWarning: The max_iter was reached which means the coef_ did not converge\n",
      "  warnings.warn(\n"
     ]
    },
    {
     "name": "stdout",
     "output_type": "stream",
     "text": [
      "[CV] END C=1, class_weight=balanced, penalty=l2, solver=saga; total time=   3.7s\n",
      "[CV] END C=10, class_weight=balanced, penalty=l1, solver=newton-cg; total time=   0.0s\n",
      "[CV] END C=10, class_weight=balanced, penalty=l1, solver=newton-cg; total time=   0.0s\n",
      "[CV] END C=10, class_weight=balanced, penalty=l1, solver=newton-cg; total time=   0.0s\n",
      "[CV] END C=10, class_weight=balanced, penalty=l1, solver=newton-cg; total time=   0.0s\n",
      "[CV] END C=10, class_weight=balanced, penalty=l1, solver=newton-cg; total time=   0.0s\n",
      "[CV] END C=10, class_weight=balanced, penalty=l1, solver=lbfgs; total time=   0.0s\n",
      "[CV] END C=10, class_weight=balanced, penalty=l1, solver=lbfgs; total time=   0.0s\n",
      "[CV] END C=10, class_weight=balanced, penalty=l1, solver=lbfgs; total time=   0.0s\n",
      "[CV] END C=10, class_weight=balanced, penalty=l1, solver=lbfgs; total time=   0.0s\n",
      "[CV] END C=10, class_weight=balanced, penalty=l1, solver=lbfgs; total time=   0.0s\n",
      "[CV] END C=10, class_weight=balanced, penalty=l1, solver=liblinear; total time=  27.8s\n"
     ]
    },
    {
     "name": "stderr",
     "output_type": "stream",
     "text": [
      "C:\\Users\\ivand\\Code\\Py-Projects\\.venv\\lib\\site-packages\\sklearn\\svm\\_base.py:1250: ConvergenceWarning: Liblinear failed to converge, increase the number of iterations.\n",
      "  warnings.warn(\n"
     ]
    },
    {
     "name": "stdout",
     "output_type": "stream",
     "text": [
      "[CV] END C=10, class_weight=balanced, penalty=l1, solver=liblinear; total time=  27.9s\n"
     ]
    },
    {
     "name": "stderr",
     "output_type": "stream",
     "text": [
      "C:\\Users\\ivand\\Code\\Py-Projects\\.venv\\lib\\site-packages\\sklearn\\svm\\_base.py:1250: ConvergenceWarning: Liblinear failed to converge, increase the number of iterations.\n",
      "  warnings.warn(\n"
     ]
    },
    {
     "name": "stdout",
     "output_type": "stream",
     "text": [
      "[CV] END C=10, class_weight=balanced, penalty=l1, solver=liblinear; total time=  30.9s\n",
      "[CV] END C=10, class_weight=balanced, penalty=l1, solver=liblinear; total time=  29.7s\n"
     ]
    },
    {
     "name": "stderr",
     "output_type": "stream",
     "text": [
      "C:\\Users\\ivand\\Code\\Py-Projects\\.venv\\lib\\site-packages\\sklearn\\svm\\_base.py:1250: ConvergenceWarning: Liblinear failed to converge, increase the number of iterations.\n",
      "  warnings.warn(\n"
     ]
    },
    {
     "name": "stdout",
     "output_type": "stream",
     "text": [
      "[CV] END C=10, class_weight=balanced, penalty=l1, solver=liblinear; total time=  29.2s\n"
     ]
    },
    {
     "name": "stderr",
     "output_type": "stream",
     "text": [
      "C:\\Users\\ivand\\Code\\Py-Projects\\.venv\\lib\\site-packages\\sklearn\\linear_model\\_sag.py:350: ConvergenceWarning: The max_iter was reached which means the coef_ did not converge\n",
      "  warnings.warn(\n"
     ]
    },
    {
     "name": "stdout",
     "output_type": "stream",
     "text": [
      "[CV] END C=10, class_weight=balanced, penalty=l1, solver=saga; total time=  10.5s\n"
     ]
    },
    {
     "name": "stderr",
     "output_type": "stream",
     "text": [
      "C:\\Users\\ivand\\Code\\Py-Projects\\.venv\\lib\\site-packages\\sklearn\\linear_model\\_sag.py:350: ConvergenceWarning: The max_iter was reached which means the coef_ did not converge\n",
      "  warnings.warn(\n"
     ]
    },
    {
     "name": "stdout",
     "output_type": "stream",
     "text": [
      "[CV] END C=10, class_weight=balanced, penalty=l1, solver=saga; total time=  10.0s\n"
     ]
    },
    {
     "name": "stderr",
     "output_type": "stream",
     "text": [
      "C:\\Users\\ivand\\Code\\Py-Projects\\.venv\\lib\\site-packages\\sklearn\\linear_model\\_sag.py:350: ConvergenceWarning: The max_iter was reached which means the coef_ did not converge\n",
      "  warnings.warn(\n"
     ]
    },
    {
     "name": "stdout",
     "output_type": "stream",
     "text": [
      "[CV] END C=10, class_weight=balanced, penalty=l1, solver=saga; total time=  10.4s\n"
     ]
    },
    {
     "name": "stderr",
     "output_type": "stream",
     "text": [
      "C:\\Users\\ivand\\Code\\Py-Projects\\.venv\\lib\\site-packages\\sklearn\\linear_model\\_sag.py:350: ConvergenceWarning: The max_iter was reached which means the coef_ did not converge\n",
      "  warnings.warn(\n"
     ]
    },
    {
     "name": "stdout",
     "output_type": "stream",
     "text": [
      "[CV] END C=10, class_weight=balanced, penalty=l1, solver=saga; total time=  10.6s\n"
     ]
    },
    {
     "name": "stderr",
     "output_type": "stream",
     "text": [
      "C:\\Users\\ivand\\Code\\Py-Projects\\.venv\\lib\\site-packages\\sklearn\\linear_model\\_sag.py:350: ConvergenceWarning: The max_iter was reached which means the coef_ did not converge\n",
      "  warnings.warn(\n"
     ]
    },
    {
     "name": "stdout",
     "output_type": "stream",
     "text": [
      "[CV] END C=10, class_weight=balanced, penalty=l1, solver=saga; total time=  10.7s\n",
      "[CV] END C=10, class_weight=balanced, penalty=l2, solver=newton-cg; total time=  11.8s\n",
      "[CV] END C=10, class_weight=balanced, penalty=l2, solver=newton-cg; total time=  10.7s\n",
      "[CV] END C=10, class_weight=balanced, penalty=l2, solver=newton-cg; total time=  10.1s\n",
      "[CV] END C=10, class_weight=balanced, penalty=l2, solver=newton-cg; total time=  13.9s\n",
      "[CV] END C=10, class_weight=balanced, penalty=l2, solver=newton-cg; total time=   8.6s\n"
     ]
    },
    {
     "name": "stderr",
     "output_type": "stream",
     "text": [
      "C:\\Users\\ivand\\Code\\Py-Projects\\.venv\\lib\\site-packages\\sklearn\\linear_model\\_logistic.py:460: ConvergenceWarning: lbfgs failed to converge (status=1):\n",
      "STOP: TOTAL NO. of ITERATIONS REACHED LIMIT.\n",
      "\n",
      "Increase the number of iterations (max_iter) or scale the data as shown in:\n",
      "    https://scikit-learn.org/stable/modules/preprocessing.html\n",
      "Please also refer to the documentation for alternative solver options:\n",
      "    https://scikit-learn.org/stable/modules/linear_model.html#logistic-regression\n",
      "  n_iter_i = _check_optimize_result(\n"
     ]
    },
    {
     "name": "stdout",
     "output_type": "stream",
     "text": [
      "[CV] END C=10, class_weight=balanced, penalty=l2, solver=lbfgs; total time=   0.5s\n"
     ]
    },
    {
     "name": "stderr",
     "output_type": "stream",
     "text": [
      "C:\\Users\\ivand\\Code\\Py-Projects\\.venv\\lib\\site-packages\\sklearn\\linear_model\\_logistic.py:460: ConvergenceWarning: lbfgs failed to converge (status=1):\n",
      "STOP: TOTAL NO. of ITERATIONS REACHED LIMIT.\n",
      "\n",
      "Increase the number of iterations (max_iter) or scale the data as shown in:\n",
      "    https://scikit-learn.org/stable/modules/preprocessing.html\n",
      "Please also refer to the documentation for alternative solver options:\n",
      "    https://scikit-learn.org/stable/modules/linear_model.html#logistic-regression\n",
      "  n_iter_i = _check_optimize_result(\n"
     ]
    },
    {
     "name": "stdout",
     "output_type": "stream",
     "text": [
      "[CV] END C=10, class_weight=balanced, penalty=l2, solver=lbfgs; total time=   0.5s\n"
     ]
    },
    {
     "name": "stderr",
     "output_type": "stream",
     "text": [
      "C:\\Users\\ivand\\Code\\Py-Projects\\.venv\\lib\\site-packages\\sklearn\\linear_model\\_logistic.py:460: ConvergenceWarning: lbfgs failed to converge (status=1):\n",
      "STOP: TOTAL NO. of ITERATIONS REACHED LIMIT.\n",
      "\n",
      "Increase the number of iterations (max_iter) or scale the data as shown in:\n",
      "    https://scikit-learn.org/stable/modules/preprocessing.html\n",
      "Please also refer to the documentation for alternative solver options:\n",
      "    https://scikit-learn.org/stable/modules/linear_model.html#logistic-regression\n",
      "  n_iter_i = _check_optimize_result(\n"
     ]
    },
    {
     "name": "stdout",
     "output_type": "stream",
     "text": [
      "[CV] END C=10, class_weight=balanced, penalty=l2, solver=lbfgs; total time=   0.5s\n"
     ]
    },
    {
     "name": "stderr",
     "output_type": "stream",
     "text": [
      "C:\\Users\\ivand\\Code\\Py-Projects\\.venv\\lib\\site-packages\\sklearn\\linear_model\\_logistic.py:460: ConvergenceWarning: lbfgs failed to converge (status=1):\n",
      "STOP: TOTAL NO. of ITERATIONS REACHED LIMIT.\n",
      "\n",
      "Increase the number of iterations (max_iter) or scale the data as shown in:\n",
      "    https://scikit-learn.org/stable/modules/preprocessing.html\n",
      "Please also refer to the documentation for alternative solver options:\n",
      "    https://scikit-learn.org/stable/modules/linear_model.html#logistic-regression\n",
      "  n_iter_i = _check_optimize_result(\n"
     ]
    },
    {
     "name": "stdout",
     "output_type": "stream",
     "text": [
      "[CV] END C=10, class_weight=balanced, penalty=l2, solver=lbfgs; total time=   0.5s\n"
     ]
    },
    {
     "name": "stderr",
     "output_type": "stream",
     "text": [
      "C:\\Users\\ivand\\Code\\Py-Projects\\.venv\\lib\\site-packages\\sklearn\\linear_model\\_logistic.py:460: ConvergenceWarning: lbfgs failed to converge (status=1):\n",
      "STOP: TOTAL NO. of ITERATIONS REACHED LIMIT.\n",
      "\n",
      "Increase the number of iterations (max_iter) or scale the data as shown in:\n",
      "    https://scikit-learn.org/stable/modules/preprocessing.html\n",
      "Please also refer to the documentation for alternative solver options:\n",
      "    https://scikit-learn.org/stable/modules/linear_model.html#logistic-regression\n",
      "  n_iter_i = _check_optimize_result(\n"
     ]
    },
    {
     "name": "stdout",
     "output_type": "stream",
     "text": [
      "[CV] END C=10, class_weight=balanced, penalty=l2, solver=lbfgs; total time=   0.5s\n",
      "[CV] END C=10, class_weight=balanced, penalty=l2, solver=liblinear; total time=   5.5s\n",
      "[CV] END C=10, class_weight=balanced, penalty=l2, solver=liblinear; total time=   4.7s\n",
      "[CV] END C=10, class_weight=balanced, penalty=l2, solver=liblinear; total time=   4.9s\n",
      "[CV] END C=10, class_weight=balanced, penalty=l2, solver=liblinear; total time=   5.1s\n",
      "[CV] END C=10, class_weight=balanced, penalty=l2, solver=liblinear; total time=   4.9s\n"
     ]
    },
    {
     "name": "stderr",
     "output_type": "stream",
     "text": [
      "C:\\Users\\ivand\\Code\\Py-Projects\\.venv\\lib\\site-packages\\sklearn\\linear_model\\_sag.py:350: ConvergenceWarning: The max_iter was reached which means the coef_ did not converge\n",
      "  warnings.warn(\n"
     ]
    },
    {
     "name": "stdout",
     "output_type": "stream",
     "text": [
      "[CV] END C=10, class_weight=balanced, penalty=l2, solver=saga; total time=   3.7s\n"
     ]
    },
    {
     "name": "stderr",
     "output_type": "stream",
     "text": [
      "C:\\Users\\ivand\\Code\\Py-Projects\\.venv\\lib\\site-packages\\sklearn\\linear_model\\_sag.py:350: ConvergenceWarning: The max_iter was reached which means the coef_ did not converge\n",
      "  warnings.warn(\n"
     ]
    },
    {
     "name": "stdout",
     "output_type": "stream",
     "text": [
      "[CV] END C=10, class_weight=balanced, penalty=l2, solver=saga; total time=   3.6s\n"
     ]
    },
    {
     "name": "stderr",
     "output_type": "stream",
     "text": [
      "C:\\Users\\ivand\\Code\\Py-Projects\\.venv\\lib\\site-packages\\sklearn\\linear_model\\_sag.py:350: ConvergenceWarning: The max_iter was reached which means the coef_ did not converge\n",
      "  warnings.warn(\n"
     ]
    },
    {
     "name": "stdout",
     "output_type": "stream",
     "text": [
      "[CV] END C=10, class_weight=balanced, penalty=l2, solver=saga; total time=   3.6s\n"
     ]
    },
    {
     "name": "stderr",
     "output_type": "stream",
     "text": [
      "C:\\Users\\ivand\\Code\\Py-Projects\\.venv\\lib\\site-packages\\sklearn\\linear_model\\_sag.py:350: ConvergenceWarning: The max_iter was reached which means the coef_ did not converge\n",
      "  warnings.warn(\n"
     ]
    },
    {
     "name": "stdout",
     "output_type": "stream",
     "text": [
      "[CV] END C=10, class_weight=balanced, penalty=l2, solver=saga; total time=   3.6s\n"
     ]
    },
    {
     "name": "stderr",
     "output_type": "stream",
     "text": [
      "C:\\Users\\ivand\\Code\\Py-Projects\\.venv\\lib\\site-packages\\sklearn\\linear_model\\_sag.py:350: ConvergenceWarning: The max_iter was reached which means the coef_ did not converge\n",
      "  warnings.warn(\n",
      "C:\\Users\\ivand\\Code\\Py-Projects\\.venv\\lib\\site-packages\\sklearn\\model_selection\\_validation.py:425: FitFailedWarning: \n",
      "40 fits failed out of a total of 160.\n",
      "The score on these train-test partitions for these parameters will be set to nan.\n",
      "If these failures are not expected, you can try to debug them by setting error_score='raise'.\n",
      "\n",
      "Below are more details about the failures:\n",
      "--------------------------------------------------------------------------------\n",
      "20 fits failed with the following error:\n",
      "Traceback (most recent call last):\n",
      "  File \"C:\\Users\\ivand\\Code\\Py-Projects\\.venv\\lib\\site-packages\\sklearn\\model_selection\\_validation.py\", line 729, in _fit_and_score\n",
      "    estimator.fit(X_train, y_train, **fit_params)\n",
      "  File \"C:\\Users\\ivand\\Code\\Py-Projects\\.venv\\lib\\site-packages\\sklearn\\base.py\", line 1152, in wrapper\n",
      "    return fit_method(estimator, *args, **kwargs)\n",
      "  File \"C:\\Users\\ivand\\Code\\Py-Projects\\.venv\\lib\\site-packages\\sklearn\\linear_model\\_logistic.py\", line 1169, in fit\n",
      "    solver = _check_solver(self.solver, self.penalty, self.dual)\n",
      "  File \"C:\\Users\\ivand\\Code\\Py-Projects\\.venv\\lib\\site-packages\\sklearn\\linear_model\\_logistic.py\", line 56, in _check_solver\n",
      "    raise ValueError(\n",
      "ValueError: Solver newton-cg supports only 'l2' or 'none' penalties, got l1 penalty.\n",
      "\n",
      "--------------------------------------------------------------------------------\n",
      "20 fits failed with the following error:\n",
      "Traceback (most recent call last):\n",
      "  File \"C:\\Users\\ivand\\Code\\Py-Projects\\.venv\\lib\\site-packages\\sklearn\\model_selection\\_validation.py\", line 729, in _fit_and_score\n",
      "    estimator.fit(X_train, y_train, **fit_params)\n",
      "  File \"C:\\Users\\ivand\\Code\\Py-Projects\\.venv\\lib\\site-packages\\sklearn\\base.py\", line 1152, in wrapper\n",
      "    return fit_method(estimator, *args, **kwargs)\n",
      "  File \"C:\\Users\\ivand\\Code\\Py-Projects\\.venv\\lib\\site-packages\\sklearn\\linear_model\\_logistic.py\", line 1169, in fit\n",
      "    solver = _check_solver(self.solver, self.penalty, self.dual)\n",
      "  File \"C:\\Users\\ivand\\Code\\Py-Projects\\.venv\\lib\\site-packages\\sklearn\\linear_model\\_logistic.py\", line 56, in _check_solver\n",
      "    raise ValueError(\n",
      "ValueError: Solver lbfgs supports only 'l2' or 'none' penalties, got l1 penalty.\n",
      "\n",
      "  warnings.warn(some_fits_failed_message, FitFailedWarning)\n",
      "C:\\Users\\ivand\\Code\\Py-Projects\\.venv\\lib\\site-packages\\sklearn\\model_selection\\_search.py:979: UserWarning: One or more of the test scores are non-finite: [       nan        nan 0.09685139 0.05699438 0.43591583 0.43591456\n",
      " 0.41168359 0.42431239        nan        nan 0.37840241 0.38849197\n",
      " 0.44397883 0.44296873 0.44145994 0.44095234        nan        nan\n",
      " 0.44195481 0.43792713 0.42985014 0.42834135 0.43642088 0.44398392\n",
      "        nan        nan 0.40162201 0.4434776  0.4076559  0.40967738\n",
      " 0.4096901  0.44398138]\n",
      "  warnings.warn(\n"
     ]
    },
    {
     "name": "stdout",
     "output_type": "stream",
     "text": [
      "[CV] END C=10, class_weight=balanced, penalty=l2, solver=saga; total time=   3.6s\n"
     ]
    },
    {
     "name": "stderr",
     "output_type": "stream",
     "text": [
      "C:\\Users\\ivand\\Code\\Py-Projects\\.venv\\lib\\site-packages\\sklearn\\linear_model\\_sag.py:350: ConvergenceWarning: The max_iter was reached which means the coef_ did not converge\n",
      "  warnings.warn(\n"
     ]
    },
    {
     "data": {
      "text/html": [
       "<style>#sk-container-id-1 {color: black;}#sk-container-id-1 pre{padding: 0;}#sk-container-id-1 div.sk-toggleable {background-color: white;}#sk-container-id-1 label.sk-toggleable__label {cursor: pointer;display: block;width: 100%;margin-bottom: 0;padding: 0.3em;box-sizing: border-box;text-align: center;}#sk-container-id-1 label.sk-toggleable__label-arrow:before {content: \"▸\";float: left;margin-right: 0.25em;color: #696969;}#sk-container-id-1 label.sk-toggleable__label-arrow:hover:before {color: black;}#sk-container-id-1 div.sk-estimator:hover label.sk-toggleable__label-arrow:before {color: black;}#sk-container-id-1 div.sk-toggleable__content {max-height: 0;max-width: 0;overflow: hidden;text-align: left;background-color: #f0f8ff;}#sk-container-id-1 div.sk-toggleable__content pre {margin: 0.2em;color: black;border-radius: 0.25em;background-color: #f0f8ff;}#sk-container-id-1 input.sk-toggleable__control:checked~div.sk-toggleable__content {max-height: 200px;max-width: 100%;overflow: auto;}#sk-container-id-1 input.sk-toggleable__control:checked~label.sk-toggleable__label-arrow:before {content: \"▾\";}#sk-container-id-1 div.sk-estimator input.sk-toggleable__control:checked~label.sk-toggleable__label {background-color: #d4ebff;}#sk-container-id-1 div.sk-label input.sk-toggleable__control:checked~label.sk-toggleable__label {background-color: #d4ebff;}#sk-container-id-1 input.sk-hidden--visually {border: 0;clip: rect(1px 1px 1px 1px);clip: rect(1px, 1px, 1px, 1px);height: 1px;margin: -1px;overflow: hidden;padding: 0;position: absolute;width: 1px;}#sk-container-id-1 div.sk-estimator {font-family: monospace;background-color: #f0f8ff;border: 1px dotted black;border-radius: 0.25em;box-sizing: border-box;margin-bottom: 0.5em;}#sk-container-id-1 div.sk-estimator:hover {background-color: #d4ebff;}#sk-container-id-1 div.sk-parallel-item::after {content: \"\";width: 100%;border-bottom: 1px solid gray;flex-grow: 1;}#sk-container-id-1 div.sk-label:hover label.sk-toggleable__label {background-color: #d4ebff;}#sk-container-id-1 div.sk-serial::before {content: \"\";position: absolute;border-left: 1px solid gray;box-sizing: border-box;top: 0;bottom: 0;left: 50%;z-index: 0;}#sk-container-id-1 div.sk-serial {display: flex;flex-direction: column;align-items: center;background-color: white;padding-right: 0.2em;padding-left: 0.2em;position: relative;}#sk-container-id-1 div.sk-item {position: relative;z-index: 1;}#sk-container-id-1 div.sk-parallel {display: flex;align-items: stretch;justify-content: center;background-color: white;position: relative;}#sk-container-id-1 div.sk-item::before, #sk-container-id-1 div.sk-parallel-item::before {content: \"\";position: absolute;border-left: 1px solid gray;box-sizing: border-box;top: 0;bottom: 0;left: 50%;z-index: -1;}#sk-container-id-1 div.sk-parallel-item {display: flex;flex-direction: column;z-index: 1;position: relative;background-color: white;}#sk-container-id-1 div.sk-parallel-item:first-child::after {align-self: flex-end;width: 50%;}#sk-container-id-1 div.sk-parallel-item:last-child::after {align-self: flex-start;width: 50%;}#sk-container-id-1 div.sk-parallel-item:only-child::after {width: 0;}#sk-container-id-1 div.sk-dashed-wrapped {border: 1px dashed gray;margin: 0 0.4em 0.5em 0.4em;box-sizing: border-box;padding-bottom: 0.4em;background-color: white;}#sk-container-id-1 div.sk-label label {font-family: monospace;font-weight: bold;display: inline-block;line-height: 1.2em;}#sk-container-id-1 div.sk-label-container {text-align: center;}#sk-container-id-1 div.sk-container {/* jupyter's `normalize.less` sets `[hidden] { display: none; }` but bootstrap.min.css set `[hidden] { display: none !important; }` so we also need the `!important` here to be able to override the default hidden behavior on the sphinx rendered scikit-learn.org. See: https://github.com/scikit-learn/scikit-learn/issues/21755 */display: inline-block !important;position: relative;}#sk-container-id-1 div.sk-text-repr-fallback {display: none;}</style><div id=\"sk-container-id-1\" class=\"sk-top-container\"><div class=\"sk-text-repr-fallback\"><pre>GridSearchCV(cv=5, estimator=LogisticRegression(),\n",
       "             param_grid={&#x27;C&#x27;: [0.01, 0.1, 1, 10], &#x27;class_weight&#x27;: [&#x27;balanced&#x27;],\n",
       "                         &#x27;penalty&#x27;: [&#x27;l1&#x27;, &#x27;l2&#x27;],\n",
       "                         &#x27;solver&#x27;: [&#x27;newton-cg&#x27;, &#x27;lbfgs&#x27;, &#x27;liblinear&#x27;, &#x27;saga&#x27;]},\n",
       "             verbose=2)</pre><b>In a Jupyter environment, please rerun this cell to show the HTML representation or trust the notebook. <br />On GitHub, the HTML representation is unable to render, please try loading this page with nbviewer.org.</b></div><div class=\"sk-container\" hidden><div class=\"sk-item sk-dashed-wrapped\"><div class=\"sk-label-container\"><div class=\"sk-label sk-toggleable\"><input class=\"sk-toggleable__control sk-hidden--visually\" id=\"sk-estimator-id-1\" type=\"checkbox\" ><label for=\"sk-estimator-id-1\" class=\"sk-toggleable__label sk-toggleable__label-arrow\">GridSearchCV</label><div class=\"sk-toggleable__content\"><pre>GridSearchCV(cv=5, estimator=LogisticRegression(),\n",
       "             param_grid={&#x27;C&#x27;: [0.01, 0.1, 1, 10], &#x27;class_weight&#x27;: [&#x27;balanced&#x27;],\n",
       "                         &#x27;penalty&#x27;: [&#x27;l1&#x27;, &#x27;l2&#x27;],\n",
       "                         &#x27;solver&#x27;: [&#x27;newton-cg&#x27;, &#x27;lbfgs&#x27;, &#x27;liblinear&#x27;, &#x27;saga&#x27;]},\n",
       "             verbose=2)</pre></div></div></div><div class=\"sk-parallel\"><div class=\"sk-parallel-item\"><div class=\"sk-item\"><div class=\"sk-label-container\"><div class=\"sk-label sk-toggleable\"><input class=\"sk-toggleable__control sk-hidden--visually\" id=\"sk-estimator-id-2\" type=\"checkbox\" ><label for=\"sk-estimator-id-2\" class=\"sk-toggleable__label sk-toggleable__label-arrow\">estimator: LogisticRegression</label><div class=\"sk-toggleable__content\"><pre>LogisticRegression()</pre></div></div></div><div class=\"sk-serial\"><div class=\"sk-item\"><div class=\"sk-estimator sk-toggleable\"><input class=\"sk-toggleable__control sk-hidden--visually\" id=\"sk-estimator-id-3\" type=\"checkbox\" ><label for=\"sk-estimator-id-3\" class=\"sk-toggleable__label sk-toggleable__label-arrow\">LogisticRegression</label><div class=\"sk-toggleable__content\"><pre>LogisticRegression()</pre></div></div></div></div></div></div></div></div></div></div>"
      ],
      "text/plain": [
       "GridSearchCV(cv=5, estimator=LogisticRegression(),\n",
       "             param_grid={'C': [0.01, 0.1, 1, 10], 'class_weight': ['balanced'],\n",
       "                         'penalty': ['l1', 'l2'],\n",
       "                         'solver': ['newton-cg', 'lbfgs', 'liblinear', 'saga']},\n",
       "             verbose=2)"
      ]
     },
     "execution_count": 59,
     "metadata": {},
     "output_type": "execute_result"
    }
   ],
   "source": [
    "clf = LogisticRegression()\n",
    "clf_param_grid = {\n",
    "    'C': [0.01, 0.1, 1, 10],\n",
    "    'penalty': ['l1', 'l2'],\n",
    "    'class_weight': ['balanced'],\n",
    "    #'max_iter': list(range(500, 1000, 100)),\n",
    "    'solver': ['newton-cg', 'lbfgs', 'liblinear', 'saga']\n",
    "}\n",
    "param_search = GridSearchCV(clf, param_grid=clf_param_grid, refit=True, verbose=2, cv=5)\n",
    "\n",
    "# fitting the model for grid search \n",
    "param_search.fit(X_scaled, y_train)"
   ]
  },
  {
   "cell_type": "code",
   "execution_count": 60,
   "id": "32e99d45-5915-4fa4-8312-16284067f835",
   "metadata": {},
   "outputs": [
    {
     "name": "stdout",
     "output_type": "stream",
     "text": [
      "Mean Accuracy: 0.444\n",
      "Config: {'C': 1, 'class_weight': 'balanced', 'penalty': 'l2', 'solver': 'saga'}\n"
     ]
    }
   ],
   "source": [
    "print('Mean Accuracy: %.3f' % param_search.best_score_)\n",
    "print('Config: %s' % param_search.best_params_)"
   ]
  },
  {
   "cell_type": "code",
   "execution_count": null,
   "id": "15f5f9a7-461e-47c8-bc19-36beb63b7859",
   "metadata": {},
   "outputs": [],
   "source": []
  },
  {
   "cell_type": "code",
   "execution_count": 61,
   "id": "f786c9dc-8e3e-4d72-b7e1-60e1d62c8aeb",
   "metadata": {},
   "outputs": [
    {
     "name": "stderr",
     "output_type": "stream",
     "text": [
      "C:\\Users\\ivand\\Code\\Py-Projects\\.venv\\lib\\site-packages\\sklearn\\linear_model\\_sag.py:350: ConvergenceWarning: The max_iter was reached which means the coef_ did not converge\n",
      "  warnings.warn(\n",
      "C:\\Users\\ivand\\Code\\Py-Projects\\.venv\\lib\\site-packages\\sklearn\\linear_model\\_sag.py:350: ConvergenceWarning: The max_iter was reached which means the coef_ did not converge\n",
      "  warnings.warn(\n"
     ]
    }
   ],
   "source": [
    "clf = LogisticRegression(random_state=1, C=1, class_weight='balanced', max_iter=3000, penalty='l2', solver='saga').fit(X_scaled, y_train)\n",
    "clf_dflt = LogisticRegression(random_state=1, solver='saga').fit(X_scaled, y_train)\n",
    "\n",
    "y_pred = clf.predict(X_scaled)\n",
    "y_val_pred = clf.predict(X_val_scaled)\n",
    "\n",
    "y_pred_dflt = clf_dflt.predict(X_scaled)\n",
    "y_val_pred_dflt = clf_dflt.predict(X_val_scaled)"
   ]
  },
  {
   "cell_type": "code",
   "execution_count": 62,
   "id": "4fbdc352-4f55-4cf8-92a3-7fa1490d58e4",
   "metadata": {},
   "outputs": [
    {
     "name": "stdout",
     "output_type": "stream",
     "text": [
      "Tuned model F1 scores:\n",
      "Train score: 0.774\n",
      "Val score: 0.305\n",
      "Default model F1 scores:\n",
      "Train score: 0.684\n",
      "Val score: 0.373\n"
     ]
    }
   ],
   "source": [
    "print('Tuned model F1 scores:')\n",
    "print('Train score: %.3f' % f1_score(y_pred, y_train, average='weighted'))\n",
    "print('Val score: %.3f' % f1_score(y_val_pred, y_val, average='weighted'))\n",
    "\n",
    "print('Default model F1 scores:')\n",
    "print('Train score: %.3f' % f1_score(y_pred_dflt, y_train, average='weighted'))\n",
    "print('Val score: %.3f' % f1_score(y_val_pred_dflt, y_val, average='weighted'))"
   ]
  },
  {
   "cell_type": "code",
   "execution_count": 65,
   "id": "faaffddc-036f-4fa7-b96d-36a706a68fa5",
   "metadata": {},
   "outputs": [
    {
     "name": "stdout",
     "output_type": "stream",
     "text": [
      "Tuned model\n",
      "Score train: 50 50 100.0\n",
      "Score val: 16 43 37.2\n"
     ]
    },
    {
     "name": "stderr",
     "output_type": "stream",
     "text": [
      "C:\\Users\\ivand\\AppData\\Local\\Temp\\ipykernel_24840\\1675636319.py:22: FutureWarning: Setting an item of incompatible dtype is deprecated and will raise in a future error of pandas. Value 'user_0' has dtype incompatible with int32, please explicitly cast to a compatible dtype first.\n",
      "  y_val_word.loc[y_val == y_val_id] = user_dict_val[y_val_id]\n",
      "C:\\Users\\ivand\\AppData\\Local\\Temp\\ipykernel_24840\\1675636319.py:27: FutureWarning: Setting an item of incompatible dtype is deprecated and will raise in a future error of pandas. Value 'train_user_0' has dtype incompatible with int32, please explicitly cast to a compatible dtype first.\n",
      "  y_word.loc[y_train == y_train_id] = user_dict_train[y_train_id]\n"
     ]
    }
   ],
   "source": [
    "#calculating scores\n",
    "train_words, user_dict_train, inverse_user_dict_train, val_words, user_dict_val, inverse_user_dict_val = prepare_eval_df(y_train, y_val, y_val_pred, y_pred)\n",
    "true_answers, total_answers, precent_true, true_answers_train, total_answers_train, precent_true_train = calc_score(train_words, user_dict_train, inverse_user_dict_train, val_words, user_dict_val, inverse_user_dict_val)\n",
    "\n",
    "print('Tuned model')\n",
    "print('Score train:', true_answers_train, total_answers_train, precent_true_train)\n",
    "print('Score val:', true_answers, total_answers, precent_true)"
   ]
  },
  {
   "cell_type": "code",
   "execution_count": 66,
   "id": "c7e68563-a14d-4cd6-b15c-1c48091a2e59",
   "metadata": {},
   "outputs": [
    {
     "name": "stdout",
     "output_type": "stream",
     "text": [
      "Default model\n",
      "Score train: 44 50 88.0\n",
      "Score val: 17 43 39.5\n"
     ]
    },
    {
     "name": "stderr",
     "output_type": "stream",
     "text": [
      "C:\\Users\\ivand\\AppData\\Local\\Temp\\ipykernel_24840\\1675636319.py:22: FutureWarning: Setting an item of incompatible dtype is deprecated and will raise in a future error of pandas. Value 'user_0' has dtype incompatible with int32, please explicitly cast to a compatible dtype first.\n",
      "  y_val_word.loc[y_val == y_val_id] = user_dict_val[y_val_id]\n",
      "C:\\Users\\ivand\\AppData\\Local\\Temp\\ipykernel_24840\\1675636319.py:27: FutureWarning: Setting an item of incompatible dtype is deprecated and will raise in a future error of pandas. Value 'train_user_0' has dtype incompatible with int32, please explicitly cast to a compatible dtype first.\n",
      "  y_word.loc[y_train == y_train_id] = user_dict_train[y_train_id]\n"
     ]
    }
   ],
   "source": [
    "#calculating scores\n",
    "train_words, user_dict_train, inverse_user_dict_train, val_words, user_dict_val, inverse_user_dict_val = prepare_eval_df(y_train, y_val, y_val_pred_dflt, y_pred_dflt)\n",
    "true_answers, total_answers, precent_true, true_answers_train, total_answers_train, precent_true_train = calc_score(train_words, user_dict_train, inverse_user_dict_train, val_words, user_dict_val, inverse_user_dict_val)\n",
    "\n",
    "print('Default model')\n",
    "print('Score train:', true_answers_train, total_answers_train, precent_true_train)\n",
    "print('Score val:', true_answers, total_answers, precent_true)"
   ]
  },
  {
   "cell_type": "code",
   "execution_count": null,
   "id": "c0b545c4-1fe9-4939-a2b1-d6b4d503114e",
   "metadata": {},
   "outputs": [],
   "source": []
  },
  {
   "cell_type": "markdown",
   "id": "ecf009a7-52fc-43a6-8d4a-c426477c15f6",
   "metadata": {},
   "source": [
    "#### 4. Running test prediction"
   ]
  },
  {
   "cell_type": "code",
   "execution_count": 67,
   "id": "a85aa118-2edb-493c-8f92-1c5e1d463401",
   "metadata": {},
   "outputs": [],
   "source": [
    "X = train_fin.copy()\n",
    "y = X['user_id'].astype(int)\n",
    "\n",
    "X_test = test_fin.copy()"
   ]
  },
  {
   "cell_type": "code",
   "execution_count": 68,
   "id": "52bff10a-7fc8-4abc-9816-79d1b31dd452",
   "metadata": {},
   "outputs": [],
   "source": [
    "X = X[train_cols].astype(int)\n",
    "X_test = X_test[train_cols].astype(int)"
   ]
  },
  {
   "cell_type": "code",
   "execution_count": 69,
   "id": "cb4bacd1-409d-4331-9525-65c622d4353a",
   "metadata": {},
   "outputs": [],
   "source": [
    "X.columns = X.columns.astype(str)\n",
    "X_test.columns = X_test.columns.astype(str)"
   ]
  },
  {
   "cell_type": "code",
   "execution_count": 70,
   "id": "4b7380d9-0598-4995-a52b-d9a9cc49b3d7",
   "metadata": {},
   "outputs": [],
   "source": [
    "scaler_X = StandardScaler()\n",
    "#scaler_X_test = StandardScaler()\n",
    "\n",
    "scaler_X.fit(X)\n",
    "scaler_X.fit(X_test)\n",
    "\n",
    "X_scaled = scaler_X.transform(X)\n",
    "X_test_scaled = scaler_X.transform(X_test)"
   ]
  },
  {
   "cell_type": "code",
   "execution_count": 71,
   "id": "8931c34b-c7e0-49d2-b36e-f10904256f03",
   "metadata": {},
   "outputs": [
    {
     "name": "stderr",
     "output_type": "stream",
     "text": [
      "C:\\Users\\ivand\\Code\\Py-Projects\\.venv\\lib\\site-packages\\sklearn\\linear_model\\_sag.py:350: ConvergenceWarning: The max_iter was reached which means the coef_ did not converge\n",
      "  warnings.warn(\n"
     ]
    }
   ],
   "source": [
    "clf = LogisticRegression(random_state=1, class_weight='balanced', solver='saga').fit(X_scaled, y)"
   ]
  },
  {
   "cell_type": "code",
   "execution_count": 72,
   "id": "b2169d74-0722-44a3-a1e3-ca5d38a6ede6",
   "metadata": {},
   "outputs": [],
   "source": [
    "y_pred = clf.predict(X_scaled)\n",
    "y_test_pred = clf.predict(X_test_scaled)\n",
    "\n",
    "y_pred_proba = clf.predict_proba(X_scaled)\n",
    "y_test_pred_proba = clf.predict_proba(X_test_scaled)"
   ]
  },
  {
   "cell_type": "code",
   "execution_count": 73,
   "id": "b5ef2aa6-8aff-44fc-b857-f4f9dcea46e0",
   "metadata": {},
   "outputs": [],
   "source": [
    "test_words = pd.DataFrame()\n",
    "\n",
    "test_words['user_word'] = test_fin['user_word']\n",
    "test_words['preds'] = y_test_pred"
   ]
  },
  {
   "cell_type": "code",
   "execution_count": 74,
   "id": "df0bb366-a09b-4e94-9adb-d4e461a8c3eb",
   "metadata": {},
   "outputs": [],
   "source": [
    "comp_df_test = pd.DataFrame(test_words.groupby('user_word')['preds'].agg(lambda x: x.value_counts().index[0]))"
   ]
  },
  {
   "cell_type": "code",
   "execution_count": 75,
   "id": "2f986368-b759-4c33-81a3-cc0a690c2302",
   "metadata": {},
   "outputs": [
    {
     "data": {
      "text/plain": [
       "34"
      ]
     },
     "execution_count": 75,
     "metadata": {},
     "output_type": "execute_result"
    }
   ],
   "source": [
    "comp_df_test.shape[0]"
   ]
  },
  {
   "cell_type": "code",
   "execution_count": 76,
   "id": "4e04eb78-69a8-4774-b914-e8606d071a69",
   "metadata": {},
   "outputs": [
    {
     "data": {
      "text/html": [
       "<div>\n",
       "<style scoped>\n",
       "    .dataframe tbody tr th:only-of-type {\n",
       "        vertical-align: middle;\n",
       "    }\n",
       "\n",
       "    .dataframe tbody tr th {\n",
       "        vertical-align: top;\n",
       "    }\n",
       "\n",
       "    .dataframe thead th {\n",
       "        text-align: right;\n",
       "    }\n",
       "</style>\n",
       "<table border=\"1\" class=\"dataframe\">\n",
       "  <thead>\n",
       "    <tr style=\"text-align: right;\">\n",
       "      <th></th>\n",
       "      <th>preds</th>\n",
       "    </tr>\n",
       "    <tr>\n",
       "      <th>user_word</th>\n",
       "      <th></th>\n",
       "    </tr>\n",
       "  </thead>\n",
       "  <tbody>\n",
       "    <tr>\n",
       "      <th>aucroc</th>\n",
       "      <td>49</td>\n",
       "    </tr>\n",
       "    <tr>\n",
       "      <th>binary</th>\n",
       "      <td>12</td>\n",
       "    </tr>\n",
       "    <tr>\n",
       "      <th>blue</th>\n",
       "      <td>51</td>\n",
       "    </tr>\n",
       "    <tr>\n",
       "      <th>categorical</th>\n",
       "      <td>14</td>\n",
       "    </tr>\n",
       "    <tr>\n",
       "      <th>coefficient</th>\n",
       "      <td>15</td>\n",
       "    </tr>\n",
       "    <tr>\n",
       "      <th>collinear</th>\n",
       "      <td>33</td>\n",
       "    </tr>\n",
       "    <tr>\n",
       "      <th>distributed</th>\n",
       "      <td>0</td>\n",
       "    </tr>\n",
       "    <tr>\n",
       "      <th>epsilon</th>\n",
       "      <td>1</td>\n",
       "    </tr>\n",
       "    <tr>\n",
       "      <th>f1</th>\n",
       "      <td>6</td>\n",
       "    </tr>\n",
       "    <tr>\n",
       "      <th>fit</th>\n",
       "      <td>2</td>\n",
       "    </tr>\n",
       "    <tr>\n",
       "      <th>gini</th>\n",
       "      <td>15</td>\n",
       "    </tr>\n",
       "    <tr>\n",
       "      <th>independent</th>\n",
       "      <td>1</td>\n",
       "    </tr>\n",
       "    <tr>\n",
       "      <th>lasso</th>\n",
       "      <td>36</td>\n",
       "    </tr>\n",
       "    <tr>\n",
       "      <th>linear</th>\n",
       "      <td>17</td>\n",
       "    </tr>\n",
       "    <tr>\n",
       "      <th>logistic</th>\n",
       "      <td>25</td>\n",
       "    </tr>\n",
       "    <tr>\n",
       "      <th>loss</th>\n",
       "      <td>19</td>\n",
       "    </tr>\n",
       "    <tr>\n",
       "      <th>matrix</th>\n",
       "      <td>54</td>\n",
       "    </tr>\n",
       "    <tr>\n",
       "      <th>minimization</th>\n",
       "      <td>20</td>\n",
       "    </tr>\n",
       "    <tr>\n",
       "      <th>mse</th>\n",
       "      <td>43</td>\n",
       "    </tr>\n",
       "    <tr>\n",
       "      <th>ols</th>\n",
       "      <td>11</td>\n",
       "    </tr>\n",
       "    <tr>\n",
       "      <th>precision</th>\n",
       "      <td>12</td>\n",
       "    </tr>\n",
       "    <tr>\n",
       "      <th>predict</th>\n",
       "      <td>39</td>\n",
       "    </tr>\n",
       "    <tr>\n",
       "      <th>pvalue</th>\n",
       "      <td>32</td>\n",
       "    </tr>\n",
       "    <tr>\n",
       "      <th>r2</th>\n",
       "      <td>54</td>\n",
       "    </tr>\n",
       "    <tr>\n",
       "      <th>recall</th>\n",
       "      <td>3</td>\n",
       "    </tr>\n",
       "    <tr>\n",
       "      <th>regression</th>\n",
       "      <td>26</td>\n",
       "    </tr>\n",
       "    <tr>\n",
       "      <th>residual</th>\n",
       "      <td>32</td>\n",
       "    </tr>\n",
       "    <tr>\n",
       "      <th>ridge</th>\n",
       "      <td>35</td>\n",
       "    </tr>\n",
       "    <tr>\n",
       "      <th>sigmoid</th>\n",
       "      <td>55</td>\n",
       "    </tr>\n",
       "    <tr>\n",
       "      <th>significant</th>\n",
       "      <td>33</td>\n",
       "    </tr>\n",
       "    <tr>\n",
       "      <th>target</th>\n",
       "      <td>25</td>\n",
       "    </tr>\n",
       "    <tr>\n",
       "      <th>tstat</th>\n",
       "      <td>50</td>\n",
       "    </tr>\n",
       "    <tr>\n",
       "      <th>x</th>\n",
       "      <td>37</td>\n",
       "    </tr>\n",
       "    <tr>\n",
       "      <th>y</th>\n",
       "      <td>54</td>\n",
       "    </tr>\n",
       "  </tbody>\n",
       "</table>\n",
       "</div>"
      ],
      "text/plain": [
       "              preds\n",
       "user_word          \n",
       "aucroc           49\n",
       "binary           12\n",
       "blue             51\n",
       "categorical      14\n",
       "coefficient      15\n",
       "collinear        33\n",
       "distributed       0\n",
       "epsilon           1\n",
       "f1                6\n",
       "fit               2\n",
       "gini             15\n",
       "independent       1\n",
       "lasso            36\n",
       "linear           17\n",
       "logistic         25\n",
       "loss             19\n",
       "matrix           54\n",
       "minimization     20\n",
       "mse              43\n",
       "ols              11\n",
       "precision        12\n",
       "predict          39\n",
       "pvalue           32\n",
       "r2               54\n",
       "recall            3\n",
       "regression       26\n",
       "residual         32\n",
       "ridge            35\n",
       "sigmoid          55\n",
       "significant      33\n",
       "target           25\n",
       "tstat            50\n",
       "x                37\n",
       "y                54"
      ]
     },
     "execution_count": 76,
     "metadata": {},
     "output_type": "execute_result"
    }
   ],
   "source": [
    "comp_df_test"
   ]
  },
  {
   "cell_type": "code",
   "execution_count": 77,
   "id": "238eb7bc-ed09-4445-b323-61103fa44136",
   "metadata": {},
   "outputs": [],
   "source": [
    "comp_df_test.to_csv('ans-11-23-23.csv')"
   ]
  },
  {
   "cell_type": "code",
   "execution_count": null,
   "id": "09cf0fca-2d8c-4da8-9755-d17afb1167ee",
   "metadata": {},
   "outputs": [],
   "source": []
  },
  {
   "cell_type": "code",
   "execution_count": null,
   "id": "9eb2c174-8bf9-4386-a620-909a3d413859",
   "metadata": {},
   "outputs": [],
   "source": []
  }
 ],
 "metadata": {
  "kernelspec": {
   "display_name": "Python 3 (ipykernel)",
   "language": "python",
   "name": "python3"
  },
  "language_info": {
   "codemirror_mode": {
    "name": "ipython",
    "version": 3
   },
   "file_extension": ".py",
   "mimetype": "text/x-python",
   "name": "python",
   "nbconvert_exporter": "python",
   "pygments_lexer": "ipython3",
   "version": "3.10.11"
  }
 },
 "nbformat": 4,
 "nbformat_minor": 5
}
